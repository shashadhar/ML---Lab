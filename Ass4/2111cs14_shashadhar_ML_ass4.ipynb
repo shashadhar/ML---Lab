{
 "cells": [
  {
   "cell_type": "markdown",
   "id": "64e6fa67",
   "metadata": {},
   "source": [
    "## Importing required modules "
   ]
  },
  {
   "cell_type": "code",
   "execution_count": 219,
   "id": "4489cd09",
   "metadata": {},
   "outputs": [
    {
     "name": "stderr",
     "output_type": "stream",
     "text": [
      "[nltk_data] Downloading package punkt to\n",
      "[nltk_data]     /Users/shashadhar/nltk_data...\n",
      "[nltk_data]   Package punkt is already up-to-date!\n"
     ]
    },
    {
     "data": {
      "text/plain": [
       "True"
      ]
     },
     "execution_count": 219,
     "metadata": {},
     "output_type": "execute_result"
    }
   ],
   "source": [
    "# Created by Shashadhar on 30 Nov 2021\n",
    "# Comparison of diferent FFN with different activation function and optimizer\n",
    "\n",
    "import keras\n",
    "import tensorflow as tf\n",
    "from keras.models import Sequential\n",
    "from keras.layers import Dense,Activation\n",
    "import pandas as pd\n",
    "import numpy as np\n",
    "import nltk\n",
    "from tensorflow import keras\n",
    "from tensorflow.keras import utils as np_utils\n",
    "from numpy import mean\n",
    "from numpy import std\n",
    "from sklearn.model_selection import KFold\n",
    "from sklearn.metrics import confusion_matrix,classification_report\n",
    "nltk.download('punkt')\n"
   ]
  },
  {
   "cell_type": "markdown",
   "id": "b37e0449",
   "metadata": {},
   "source": [
    "## Loading the data"
   ]
  },
  {
   "cell_type": "code",
   "execution_count": 220,
   "id": "5f5afbb6",
   "metadata": {},
   "outputs": [],
   "source": [
    "data=pd.read_csv(\"bbc.csv\")\n",
    "data\n",
    "activation_opt_list,accuracy_list=list(),list()"
   ]
  },
  {
   "cell_type": "markdown",
   "id": "36e3f58e",
   "metadata": {},
   "source": [
    "## Checking the target class"
   ]
  },
  {
   "cell_type": "code",
   "execution_count": 221,
   "id": "f0a2786b",
   "metadata": {},
   "outputs": [
    {
     "data": {
      "text/plain": [
       "5"
      ]
     },
     "execution_count": 221,
     "metadata": {},
     "output_type": "execute_result"
    }
   ],
   "source": [
    "num_classes = len(data['Class'].unique())\n",
    "num_classes"
   ]
  },
  {
   "cell_type": "code",
   "execution_count": 222,
   "id": "39d9a9eb",
   "metadata": {},
   "outputs": [
    {
     "data": {
      "text/html": [
       "<div>\n",
       "<style scoped>\n",
       "    .dataframe tbody tr th:only-of-type {\n",
       "        vertical-align: middle;\n",
       "    }\n",
       "\n",
       "    .dataframe tbody tr th {\n",
       "        vertical-align: top;\n",
       "    }\n",
       "\n",
       "    .dataframe thead th {\n",
       "        text-align: right;\n",
       "    }\n",
       "</style>\n",
       "<table border=\"1\" class=\"dataframe\">\n",
       "  <thead>\n",
       "    <tr style=\"text-align: right;\">\n",
       "      <th></th>\n",
       "      <th>Article</th>\n",
       "      <th>Class</th>\n",
       "    </tr>\n",
       "  </thead>\n",
       "  <tbody>\n",
       "    <tr>\n",
       "      <th>643</th>\n",
       "      <td>Rock group Korn's guitarist quits\\n\\nThe guita...</td>\n",
       "      <td>entertainment</td>\n",
       "    </tr>\n",
       "    <tr>\n",
       "      <th>629</th>\n",
       "      <td>'My memories of Marley...'\\n\\nTo mark the 60th...</td>\n",
       "      <td>entertainment</td>\n",
       "    </tr>\n",
       "    <tr>\n",
       "      <th>667</th>\n",
       "      <td>Queen recruit singer for new tour\\n\\nThe remai...</td>\n",
       "      <td>entertainment</td>\n",
       "    </tr>\n",
       "    <tr>\n",
       "      <th>598</th>\n",
       "      <td>Oscar nominee Dan O'Herlihy dies\\n\\nIrish acto...</td>\n",
       "      <td>entertainment</td>\n",
       "    </tr>\n",
       "    <tr>\n",
       "      <th>219</th>\n",
       "      <td>Standard Life concern at LSE bid\\n\\nStandard L...</td>\n",
       "      <td>business</td>\n",
       "    </tr>\n",
       "    <tr>\n",
       "      <th>...</th>\n",
       "      <td>...</td>\n",
       "      <td>...</td>\n",
       "    </tr>\n",
       "    <tr>\n",
       "      <th>431</th>\n",
       "      <td>BA to suspend two Saudi services\\n\\nBritish Ai...</td>\n",
       "      <td>business</td>\n",
       "    </tr>\n",
       "    <tr>\n",
       "      <th>1899</th>\n",
       "      <td>Mobile multimedia slow to catch on\\n\\nThere is...</td>\n",
       "      <td>tech</td>\n",
       "    </tr>\n",
       "    <tr>\n",
       "      <th>1111</th>\n",
       "      <td>Ministers 'naive' over phone-taps\\n\\nThe gover...</td>\n",
       "      <td>politics</td>\n",
       "    </tr>\n",
       "    <tr>\n",
       "      <th>1413</th>\n",
       "      <td>Man City 0-2 Man Utd\\n\\nManchester United redu...</td>\n",
       "      <td>sport</td>\n",
       "    </tr>\n",
       "    <tr>\n",
       "      <th>1275</th>\n",
       "      <td>Minimum wage increased to £5.05\\n\\nThe minimum...</td>\n",
       "      <td>politics</td>\n",
       "    </tr>\n",
       "  </tbody>\n",
       "</table>\n",
       "<p>1912 rows × 2 columns</p>\n",
       "</div>"
      ],
      "text/plain": [
       "                                                Article          Class\n",
       "643   Rock group Korn's guitarist quits\\n\\nThe guita...  entertainment\n",
       "629   'My memories of Marley...'\\n\\nTo mark the 60th...  entertainment\n",
       "667   Queen recruit singer for new tour\\n\\nThe remai...  entertainment\n",
       "598   Oscar nominee Dan O'Herlihy dies\\n\\nIrish acto...  entertainment\n",
       "219   Standard Life concern at LSE bid\\n\\nStandard L...       business\n",
       "...                                                 ...            ...\n",
       "431   BA to suspend two Saudi services\\n\\nBritish Ai...       business\n",
       "1899  Mobile multimedia slow to catch on\\n\\nThere is...           tech\n",
       "1111  Ministers 'naive' over phone-taps\\n\\nThe gover...       politics\n",
       "1413  Man City 0-2 Man Utd\\n\\nManchester United redu...          sport\n",
       "1275  Minimum wage increased to £5.05\\n\\nThe minimum...       politics\n",
       "\n",
       "[1912 rows x 2 columns]"
      ]
     },
     "execution_count": 222,
     "metadata": {},
     "output_type": "execute_result"
    }
   ],
   "source": [
    "#Dropping the irrelevant first column\n",
    "data = data.iloc[: , 1:]\n",
    "\n",
    "#Shuffling the whole data to get the mixed categorical articles in each data set\n",
    "data = data.sample(frac = 1)\n",
    "data"
   ]
  },
  {
   "cell_type": "markdown",
   "id": "1f6a4b1f",
   "metadata": {},
   "source": [
    "### Removing the stopwords from the datasets"
   ]
  },
  {
   "cell_type": "code",
   "execution_count": 223,
   "id": "210b97f8",
   "metadata": {},
   "outputs": [
    {
     "data": {
      "text/html": [
       "<div>\n",
       "<style scoped>\n",
       "    .dataframe tbody tr th:only-of-type {\n",
       "        vertical-align: middle;\n",
       "    }\n",
       "\n",
       "    .dataframe tbody tr th {\n",
       "        vertical-align: top;\n",
       "    }\n",
       "\n",
       "    .dataframe thead th {\n",
       "        text-align: right;\n",
       "    }\n",
       "</style>\n",
       "<table border=\"1\" class=\"dataframe\">\n",
       "  <thead>\n",
       "    <tr style=\"text-align: right;\">\n",
       "      <th></th>\n",
       "      <th>Article</th>\n",
       "      <th>Class</th>\n",
       "    </tr>\n",
       "  </thead>\n",
       "  <tbody>\n",
       "    <tr>\n",
       "      <th>643</th>\n",
       "      <td>Rock group Korn 's guitarist quits The guitari...</td>\n",
       "      <td>entertainment</td>\n",
       "    </tr>\n",
       "    <tr>\n",
       "      <th>629</th>\n",
       "      <td>'My memories Marley ... ' To mark 60th anniver...</td>\n",
       "      <td>entertainment</td>\n",
       "    </tr>\n",
       "    <tr>\n",
       "      <th>667</th>\n",
       "      <td>Queen recruit singer new tour The remaining me...</td>\n",
       "      <td>entertainment</td>\n",
       "    </tr>\n",
       "    <tr>\n",
       "      <th>598</th>\n",
       "      <td>Oscar nominee Dan O'Herlihy dies Irish actor D...</td>\n",
       "      <td>entertainment</td>\n",
       "    </tr>\n",
       "    <tr>\n",
       "      <th>219</th>\n",
       "      <td>Standard Life concern LSE bid Standard Life la...</td>\n",
       "      <td>business</td>\n",
       "    </tr>\n",
       "    <tr>\n",
       "      <th>...</th>\n",
       "      <td>...</td>\n",
       "      <td>...</td>\n",
       "    </tr>\n",
       "    <tr>\n",
       "      <th>431</th>\n",
       "      <td>BA suspend two Saudi services British Airways ...</td>\n",
       "      <td>business</td>\n",
       "    </tr>\n",
       "    <tr>\n",
       "      <th>1899</th>\n",
       "      <td>Mobile multimedia slow catch There doubt mobil...</td>\n",
       "      <td>tech</td>\n",
       "    </tr>\n",
       "    <tr>\n",
       "      <th>1111</th>\n",
       "      <td>Ministers 'naive ' phone-taps The government n...</td>\n",
       "      <td>politics</td>\n",
       "    </tr>\n",
       "    <tr>\n",
       "      <th>1413</th>\n",
       "      <td>Man City 0-2 Man Utd Manchester United reduced...</td>\n",
       "      <td>sport</td>\n",
       "    </tr>\n",
       "    <tr>\n",
       "      <th>1275</th>\n",
       "      <td>Minimum wage increased £5.05 The minimum wage ...</td>\n",
       "      <td>politics</td>\n",
       "    </tr>\n",
       "  </tbody>\n",
       "</table>\n",
       "<p>1912 rows × 2 columns</p>\n",
       "</div>"
      ],
      "text/plain": [
       "                                                Article          Class\n",
       "643   Rock group Korn 's guitarist quits The guitari...  entertainment\n",
       "629   'My memories Marley ... ' To mark 60th anniver...  entertainment\n",
       "667   Queen recruit singer new tour The remaining me...  entertainment\n",
       "598   Oscar nominee Dan O'Herlihy dies Irish actor D...  entertainment\n",
       "219   Standard Life concern LSE bid Standard Life la...       business\n",
       "...                                                 ...            ...\n",
       "431   BA suspend two Saudi services British Airways ...       business\n",
       "1899  Mobile multimedia slow catch There doubt mobil...           tech\n",
       "1111  Ministers 'naive ' phone-taps The government n...       politics\n",
       "1413  Man City 0-2 Man Utd Manchester United reduced...          sport\n",
       "1275  Minimum wage increased £5.05 The minimum wage ...       politics\n",
       "\n",
       "[1912 rows x 2 columns]"
      ]
     },
     "execution_count": 223,
     "metadata": {},
     "output_type": "execute_result"
    }
   ],
   "source": [
    "import nltk\n",
    "#nltk.download('stopwords')\n",
    "from nltk.corpus import stopwords\n",
    "from nltk.tokenize import word_tokenize\n",
    "stop_words = set(stopwords.words('english'))\n",
    "\n",
    "for i in range(len(data)):\n",
    "    example_sent = data['Article'][i]\n",
    "    word_tokens = word_tokenize(example_sent)\n",
    "    filtered_sentence = [w for w in word_tokens if not w in stop_words]\n",
    "    data['Article'][i]=' '.join(filtered_sentence)\n",
    "data"
   ]
  },
  {
   "cell_type": "markdown",
   "id": "d53d92d0",
   "metadata": {},
   "source": [
    "### 70:10:20 split for training, validation and testing"
   ]
  },
  {
   "cell_type": "code",
   "execution_count": 224,
   "id": "0f067354",
   "metadata": {},
   "outputs": [
    {
     "name": "stdout",
     "output_type": "stream",
     "text": [
      "Train size: 1338\n",
      "Validation size: 191\n",
      "Test size: 383\n"
     ]
    }
   ],
   "source": [
    "train_size = int(len(data) * .7)\n",
    "validation_size= int(len(data) * .1)\n",
    "print (\"Train size: %d\" % train_size)\n",
    "print (\"Validation size: %d\" % validation_size)\n",
    "print (\"Test size: %d\" % (len(data) - train_size-validation_size))"
   ]
  },
  {
   "cell_type": "code",
   "execution_count": 225,
   "id": "72cb20d9",
   "metadata": {},
   "outputs": [],
   "source": [
    "def train_test_split(data, train_size,validation_size):\n",
    "    train = data[:train_size]\n",
    "    val=data[train_size:train_size+validation_size]\n",
    "    test = data[train_size+validation_size:]\n",
    "    return train,test,val\n"
   ]
  },
  {
   "cell_type": "code",
   "execution_count": 226,
   "id": "05633597",
   "metadata": {},
   "outputs": [
    {
     "data": {
      "text/plain": [
       "((1338,), (191,), (383,))"
      ]
     },
     "execution_count": 226,
     "metadata": {},
     "output_type": "execute_result"
    }
   ],
   "source": [
    "X_train,X_test,X_val=train_test_split(data['Article'],train_size,validation_size)\n",
    "y_train,y_test,y_val=train_test_split(data['Class'],train_size,validation_size)\n",
    "X_train.shape,X_val.shape,X_test.shape"
   ]
  },
  {
   "cell_type": "code",
   "execution_count": 227,
   "id": "f043779e",
   "metadata": {},
   "outputs": [
    {
     "data": {
      "text/plain": [
       "643     Rock group Korn 's guitarist quits The guitari...\n",
       "629     'My memories Marley ... ' To mark 60th anniver...\n",
       "667     Queen recruit singer new tour The remaining me...\n",
       "598     Oscar nominee Dan O'Herlihy dies Irish actor D...\n",
       "219     Standard Life concern LSE bid Standard Life la...\n",
       "                              ...                        \n",
       "774     Abba reunite musical premiere The original sta...\n",
       "1276    Hunt ban support 'in decline' Support ban hunt...\n",
       "1563    Microsoft launches search Microsoft unveiled f...\n",
       "679     EastEnders 'is set US remake' Plans create US ...\n",
       "1483    Boro suffer Morrison injury blow Middlesbrough...\n",
       "Name: Article, Length: 1338, dtype: object"
      ]
     },
     "execution_count": 227,
     "metadata": {},
     "output_type": "execute_result"
    }
   ],
   "source": [
    "X_train"
   ]
  },
  {
   "cell_type": "code",
   "execution_count": 228,
   "id": "c8fdcafd",
   "metadata": {},
   "outputs": [
    {
     "data": {
      "text/plain": [
       "1098    New foot mouth action urged A senior Tory MP c...\n",
       "1371    European medal chances improve What European I...\n",
       "1452    Chelsea ridiculed complaint Barcelona assistan...\n",
       "355     S Korea spending boost economy South Korea boo...\n",
       "1659    Microsoft gets blogging bug Software giant Mic...\n",
       "                              ...                        \n",
       "431     BA suspend two Saudi services British Airways ...\n",
       "1899    Mobile multimedia slow catch There doubt mobil...\n",
       "1111    Ministers 'naive ' phone-taps The government n...\n",
       "1413    Man City 0-2 Man Utd Manchester United reduced...\n",
       "1275    Minimum wage increased £5.05 The minimum wage ...\n",
       "Name: Article, Length: 383, dtype: object"
      ]
     },
     "execution_count": 228,
     "metadata": {},
     "output_type": "execute_result"
    }
   ],
   "source": [
    "X_test"
   ]
  },
  {
   "cell_type": "code",
   "execution_count": 229,
   "id": "9f81ad24",
   "metadata": {},
   "outputs": [
    {
     "data": {
      "text/plain": [
       "623     entertainment\n",
       "722     entertainment\n",
       "726     entertainment\n",
       "1261         politics\n",
       "520     entertainment\n",
       "            ...      \n",
       "1151         politics\n",
       "1091         politics\n",
       "736     entertainment\n",
       "1070         politics\n",
       "305          business\n",
       "Name: Class, Length: 191, dtype: object"
      ]
     },
     "execution_count": 229,
     "metadata": {},
     "output_type": "execute_result"
    }
   ],
   "source": [
    "y_val"
   ]
  },
  {
   "cell_type": "markdown",
   "id": "29232295",
   "metadata": {},
   "source": [
    "### Limiting the input to a 100 dimension vector"
   ]
  },
  {
   "cell_type": "code",
   "execution_count": 230,
   "id": "dd8bacfa",
   "metadata": {},
   "outputs": [],
   "source": [
    "import keras\n",
    "tokenize = keras.preprocessing.text.Tokenizer(num_words=100, \n",
    "                                              char_level=False)"
   ]
  },
  {
   "cell_type": "markdown",
   "id": "1c37b5a9",
   "metadata": {},
   "source": [
    "## Tokenizing the text data"
   ]
  },
  {
   "cell_type": "code",
   "execution_count": 231,
   "id": "91f6ae39",
   "metadata": {},
   "outputs": [],
   "source": [
    "tokenize.fit_on_texts(X_train) # fit tokenizer to our training text data\n"
   ]
  },
  {
   "cell_type": "code",
   "execution_count": 232,
   "id": "0c233103",
   "metadata": {},
   "outputs": [],
   "source": [
    "X_train = tokenize.texts_to_matrix(X_train)\n",
    "X_test = tokenize.texts_to_matrix(X_test )\n",
    "X_val = tokenize.texts_to_matrix(X_val )"
   ]
  },
  {
   "cell_type": "markdown",
   "id": "fdd1effc",
   "metadata": {},
   "source": [
    "## Label encoding the target classes"
   ]
  },
  {
   "cell_type": "code",
   "execution_count": 233,
   "id": "5bf2f080",
   "metadata": {},
   "outputs": [],
   "source": [
    "# Use sklearn utility to convert label strings to numbered index\n",
    "from sklearn.preprocessing import LabelBinarizer, LabelEncoder\n",
    "encoder = LabelEncoder()\n",
    "encoder.fit(y_train)\n",
    "y_train = encoder.transform(y_train)\n",
    "y_test = encoder.transform(y_test)\n",
    "y_val = encoder.transform(y_val)\n"
   ]
  },
  {
   "cell_type": "markdown",
   "id": "773cbfc7",
   "metadata": {},
   "source": [
    "## One hot encoding of target class"
   ]
  },
  {
   "cell_type": "code",
   "execution_count": 234,
   "id": "0926b8ad",
   "metadata": {},
   "outputs": [],
   "source": [
    "# Converts the labels to a one-hot representation\n",
    "y_train = np_utils.to_categorical(y_train, num_classes)\n",
    "y_test = np_utils.to_categorical(y_test, num_classes)\n",
    "y_val = np_utils.to_categorical(y_val, num_classes)"
   ]
  },
  {
   "cell_type": "code",
   "execution_count": 235,
   "id": "04a2dc99",
   "metadata": {},
   "outputs": [
    {
     "name": "stdout",
     "output_type": "stream",
     "text": [
      "X_train shape: (1338, 100)\n",
      "X_test shape: (383, 100)\n",
      "X_val shape: (191, 100)\n",
      "y_train shape: (1338, 5)\n",
      "y_test shape: (383, 5)\n",
      "y_val shape: (383, 5)\n"
     ]
    }
   ],
   "source": [
    "# Inspect the dimenstions of our training ,testing and validatin data \n",
    "print('X_train shape:', X_train.shape)\n",
    "print('X_test shape:', X_test.shape)\n",
    "print('X_val shape:', X_val.shape)\n",
    "print('y_train shape:', y_train.shape)\n",
    "print('y_test shape:', y_test.shape)\n",
    "print('y_val shape:', y_test.shape)"
   ]
  },
  {
   "cell_type": "markdown",
   "id": "a0813b7c",
   "metadata": {},
   "source": [
    "### Modelling the Feed forward neural network"
   ]
  },
  {
   "cell_type": "code",
   "execution_count": 236,
   "id": "da63fb03",
   "metadata": {},
   "outputs": [],
   "source": [
    "\n",
    "\n",
    "def getModel(activationFunction,opt=\"adam\",lss='categorical_crossentropy'):\n",
    "    # setting the random seed to 1 for consistent result\n",
    "    tf.random.set_seed(1)\n",
    "    model = Sequential()\n",
    "    model.add(Dense(50, input_shape=(100,),activation=activationFunction ))\n",
    "    model.add(Dense(20,activation=activationFunction))\n",
    "    model.add(Dense(num_classes,activation='softmax'))\n",
    "    model.compile(loss=lss,optimizer=opt,metrics=['accuracy'])\n",
    "    return model\n",
    "\n"
   ]
  },
  {
   "cell_type": "markdown",
   "id": "953f47cd",
   "metadata": {},
   "source": [
    "## Evaluation of the model"
   ]
  },
  {
   "cell_type": "code",
   "execution_count": 237,
   "id": "d97d9c84",
   "metadata": {},
   "outputs": [],
   "source": [
    "def evaluate_model(dataX, dataY,model, n_folds=3,):\n",
    "    scores, histories, cmats, cReports = list(), list(), list(), list()\n",
    "    # prepare cross validation\n",
    "    kfold = KFold(n_folds, shuffle=True, random_state=1)\n",
    "    # enumerate splits\n",
    "    for train_ix, test_ix in kfold.split(dataX):\n",
    "        # select rows for train and test\n",
    "        trainX, trainY, testX, testY = dataX[train_ix], dataY[train_ix], dataX[test_ix], dataY[test_ix]\n",
    "        # fit model\n",
    "        history = model.fit(trainX, trainY, epochs=5, batch_size=32, validation_data=(X_val, y_val), verbose=0)\n",
    "        # evaluate model\n",
    "        _, acc = model.evaluate(testX, testY, verbose=0)\n",
    "        predY = model.predict(testX)\n",
    "        cmat = confusion_matrix(testY.argmax(axis=1), predY.argmax(axis=1))\n",
    "        cReport = classification_report(testY.argmax(axis=1), predY.argmax(axis=1),target_names=[\"1\",\"2\",\"3\",\"4\",\"5\"],output_dict=True)\n",
    "        #print('> %.3f' % (acc * 100.0))\n",
    "        # stores scores\n",
    "        scores.append(acc)\n",
    "        histories.append(history)\n",
    "        cmats.append(cmat)\n",
    "        cReports.append(cReport)\n",
    "    return scores, histories, cmats,cReports"
   ]
  },
  {
   "cell_type": "markdown",
   "id": "da9424a7",
   "metadata": {},
   "source": [
    "## Calculate average classification report"
   ]
  },
  {
   "cell_type": "code",
   "execution_count": 238,
   "id": "e09e0299",
   "metadata": {},
   "outputs": [],
   "source": [
    "def calculate_avg_report(cReports):\n",
    "    avgReport = pd.DataFrame(cReports[0])\n",
    "    report1 = pd.DataFrame(cReports[0])\n",
    "    report2 = pd.DataFrame(cReports[1])\n",
    "    report3 = pd.DataFrame(cReports[2])\n",
    "    for i in range(0,4):\n",
    "        for j in range(0,8):\n",
    "            avgReport.iloc[i][j]=(report1.iloc[i][j]+report2.iloc[i][j]+report3.iloc[i][j])/3                                                                                \n",
    "    return avgReport"
   ]
  },
  {
   "cell_type": "markdown",
   "id": "4878f045",
   "metadata": {},
   "source": [
    "## Training the models with test data"
   ]
  },
  {
   "cell_type": "code",
   "execution_count": 239,
   "id": "62e7d76d",
   "metadata": {},
   "outputs": [
    {
     "name": "stdout",
     "output_type": "stream",
     "text": [
      "Evaluation report for the FFN with Activation function: tanh, Optimizer: adam\n"
     ]
    },
    {
     "data": {
      "text/html": [
       "<div>\n",
       "<style scoped>\n",
       "    .dataframe tbody tr th:only-of-type {\n",
       "        vertical-align: middle;\n",
       "    }\n",
       "\n",
       "    .dataframe tbody tr th {\n",
       "        vertical-align: top;\n",
       "    }\n",
       "\n",
       "    .dataframe thead th {\n",
       "        text-align: right;\n",
       "    }\n",
       "</style>\n",
       "<table border=\"1\" class=\"dataframe\">\n",
       "  <thead>\n",
       "    <tr style=\"text-align: right;\">\n",
       "      <th></th>\n",
       "      <th>1</th>\n",
       "      <th>2</th>\n",
       "      <th>3</th>\n",
       "      <th>4</th>\n",
       "      <th>5</th>\n",
       "      <th>accuracy</th>\n",
       "      <th>macro avg</th>\n",
       "      <th>weighted avg</th>\n",
       "    </tr>\n",
       "  </thead>\n",
       "  <tbody>\n",
       "    <tr>\n",
       "      <th>precision</th>\n",
       "      <td>0.852969</td>\n",
       "      <td>0.898899</td>\n",
       "      <td>0.918777</td>\n",
       "      <td>0.892449</td>\n",
       "      <td>0.910640</td>\n",
       "      <td>0.891629</td>\n",
       "      <td>0.894747</td>\n",
       "      <td>0.893518</td>\n",
       "    </tr>\n",
       "    <tr>\n",
       "      <th>recall</th>\n",
       "      <td>0.892859</td>\n",
       "      <td>0.896531</td>\n",
       "      <td>0.924655</td>\n",
       "      <td>0.866713</td>\n",
       "      <td>0.865421</td>\n",
       "      <td>0.891629</td>\n",
       "      <td>0.889236</td>\n",
       "      <td>0.891629</td>\n",
       "    </tr>\n",
       "    <tr>\n",
       "      <th>f1-score</th>\n",
       "      <td>0.871766</td>\n",
       "      <td>0.897490</td>\n",
       "      <td>0.921028</td>\n",
       "      <td>0.877022</td>\n",
       "      <td>0.887282</td>\n",
       "      <td>0.891629</td>\n",
       "      <td>0.890918</td>\n",
       "      <td>0.891656</td>\n",
       "    </tr>\n",
       "    <tr>\n",
       "      <th>support</th>\n",
       "      <td>116.666667</td>\n",
       "      <td>90.000000</td>\n",
       "      <td>98.333333</td>\n",
       "      <td>47.000000</td>\n",
       "      <td>94.000000</td>\n",
       "      <td>0.891629</td>\n",
       "      <td>446.000000</td>\n",
       "      <td>446.000000</td>\n",
       "    </tr>\n",
       "  </tbody>\n",
       "</table>\n",
       "</div>"
      ],
      "text/plain": [
       "                    1          2          3          4          5  accuracy  \\\n",
       "precision    0.852969   0.898899   0.918777   0.892449   0.910640  0.891629   \n",
       "recall       0.892859   0.896531   0.924655   0.866713   0.865421  0.891629   \n",
       "f1-score     0.871766   0.897490   0.921028   0.877022   0.887282  0.891629   \n",
       "support    116.666667  90.000000  98.333333  47.000000  94.000000  0.891629   \n",
       "\n",
       "            macro avg  weighted avg  \n",
       "precision    0.894747      0.893518  \n",
       "recall       0.889236      0.891629  \n",
       "f1-score     0.890918      0.891656  \n",
       "support    446.000000    446.000000  "
      ]
     },
     "metadata": {},
     "output_type": "display_data"
    },
    {
     "name": "stdout",
     "output_type": "stream",
     "text": [
      "\n",
      "Class-wise accuracy for each fold:\n",
      "\n",
      "[0.87931034 0.88541667 0.89473684 0.75       0.86813187]\n",
      "[0.86290323 0.92045455 0.93478261 0.92156863 0.86813187]\n",
      "[0.93636364 0.88372093 0.94444444 0.92857143 0.86      ]\n"
     ]
    }
   ],
   "source": [
    "print_string= \"Evaluation report for the FFN with Activation function: {}, Optimizer: {}\"\n",
    "print(print_string.format(\"tanh\", 'adam'))\n",
    "model = getModel(activationFunction='tanh',opt='adam')\n",
    "scores, histories, cmats, cReports = evaluate_model(X_train, y_train,model)\n",
    "final_report= calculate_avg_report(cReports)   \n",
    "display(final_report)\n",
    "print(\"\\nClass-wise accuracy for each fold:\\n\")\n",
    "for i in range(len(cmats)):\n",
    "    print(cmats[i].diagonal()/cmats[i].sum(axis=1))\n",
    "\n",
    "activation_opt_list.append(\"tanh/adm\")\n",
    "accuracy_list.append((100*final_report.iloc[0][5]))    "
   ]
  },
  {
   "cell_type": "code",
   "execution_count": 240,
   "id": "b9195bd2",
   "metadata": {},
   "outputs": [
    {
     "name": "stdout",
     "output_type": "stream",
     "text": [
      "Evaluation report for the FFN with Activation function: tanh, Optimizer: SGD\n"
     ]
    },
    {
     "data": {
      "text/html": [
       "<div>\n",
       "<style scoped>\n",
       "    .dataframe tbody tr th:only-of-type {\n",
       "        vertical-align: middle;\n",
       "    }\n",
       "\n",
       "    .dataframe tbody tr th {\n",
       "        vertical-align: top;\n",
       "    }\n",
       "\n",
       "    .dataframe thead th {\n",
       "        text-align: right;\n",
       "    }\n",
       "</style>\n",
       "<table border=\"1\" class=\"dataframe\">\n",
       "  <thead>\n",
       "    <tr style=\"text-align: right;\">\n",
       "      <th></th>\n",
       "      <th>1</th>\n",
       "      <th>2</th>\n",
       "      <th>3</th>\n",
       "      <th>4</th>\n",
       "      <th>5</th>\n",
       "      <th>accuracy</th>\n",
       "      <th>macro avg</th>\n",
       "      <th>weighted avg</th>\n",
       "    </tr>\n",
       "  </thead>\n",
       "  <tbody>\n",
       "    <tr>\n",
       "      <th>precision</th>\n",
       "      <td>0.667013</td>\n",
       "      <td>0.641248</td>\n",
       "      <td>0.721235</td>\n",
       "      <td>0.807729</td>\n",
       "      <td>0.674662</td>\n",
       "      <td>0.680867</td>\n",
       "      <td>0.702378</td>\n",
       "      <td>0.691933</td>\n",
       "    </tr>\n",
       "    <tr>\n",
       "      <th>recall</th>\n",
       "      <td>0.772613</td>\n",
       "      <td>0.579957</td>\n",
       "      <td>0.847734</td>\n",
       "      <td>0.240780</td>\n",
       "      <td>0.718864</td>\n",
       "      <td>0.680867</td>\n",
       "      <td>0.631990</td>\n",
       "      <td>0.680867</td>\n",
       "    </tr>\n",
       "    <tr>\n",
       "      <th>f1-score</th>\n",
       "      <td>0.715106</td>\n",
       "      <td>0.606822</td>\n",
       "      <td>0.777984</td>\n",
       "      <td>0.339217</td>\n",
       "      <td>0.692455</td>\n",
       "      <td>0.680867</td>\n",
       "      <td>0.626317</td>\n",
       "      <td>0.662017</td>\n",
       "    </tr>\n",
       "    <tr>\n",
       "      <th>support</th>\n",
       "      <td>116.666667</td>\n",
       "      <td>90.000000</td>\n",
       "      <td>98.333333</td>\n",
       "      <td>47.000000</td>\n",
       "      <td>94.000000</td>\n",
       "      <td>0.680867</td>\n",
       "      <td>446.000000</td>\n",
       "      <td>446.000000</td>\n",
       "    </tr>\n",
       "  </tbody>\n",
       "</table>\n",
       "</div>"
      ],
      "text/plain": [
       "                    1          2          3          4          5  accuracy  \\\n",
       "precision    0.667013   0.641248   0.721235   0.807729   0.674662  0.680867   \n",
       "recall       0.772613   0.579957   0.847734   0.240780   0.718864  0.680867   \n",
       "f1-score     0.715106   0.606822   0.777984   0.339217   0.692455  0.680867   \n",
       "support    116.666667  90.000000  98.333333  47.000000  94.000000  0.680867   \n",
       "\n",
       "            macro avg  weighted avg  \n",
       "precision    0.702378      0.691933  \n",
       "recall       0.631990      0.680867  \n",
       "f1-score     0.626317      0.662017  \n",
       "support    446.000000    446.000000  "
      ]
     },
     "metadata": {},
     "output_type": "display_data"
    },
    {
     "name": "stdout",
     "output_type": "stream",
     "text": [
      "\n",
      "Class-wise accuracy for each fold:\n",
      "\n",
      "[0.68103448 0.41666667 0.73684211 0.04166667 0.61538462]\n",
      "[0.78225806 0.60227273 0.88043478 0.15686275 0.79120879]\n",
      "[0.85454545 0.72093023 0.92592593 0.52380952 0.75      ]\n"
     ]
    }
   ],
   "source": [
    "print_string= \"Evaluation report for the FFN with Activation function: {}, Optimizer: {}\"\n",
    "print(print_string.format(\"tanh\", 'SGD'))\n",
    "\n",
    "model = getModel(activationFunction='tanh',opt='SGD')\n",
    "scores, histories, cmats, cReports = evaluate_model(X_train, y_train,model)\n",
    "final_report= calculate_avg_report(cReports)   \n",
    "display(final_report)\n",
    "print(\"\\nClass-wise accuracy for each fold:\\n\")\n",
    "for i in range(len(cmats)):\n",
    "    print(cmats[i].diagonal()/cmats[i].sum(axis=1))\n",
    "    \n",
    "activation_opt_list.append(\"tanh/SGD\")\n",
    "accuracy_list.append((100*final_report.iloc[0][5]))    "
   ]
  },
  {
   "cell_type": "code",
   "execution_count": 241,
   "id": "36abbf11",
   "metadata": {},
   "outputs": [
    {
     "name": "stdout",
     "output_type": "stream",
     "text": [
      "Evaluation report for the FFN with Activation function: relu, Optimizer: adam\n"
     ]
    },
    {
     "data": {
      "text/html": [
       "<div>\n",
       "<style scoped>\n",
       "    .dataframe tbody tr th:only-of-type {\n",
       "        vertical-align: middle;\n",
       "    }\n",
       "\n",
       "    .dataframe tbody tr th {\n",
       "        vertical-align: top;\n",
       "    }\n",
       "\n",
       "    .dataframe thead th {\n",
       "        text-align: right;\n",
       "    }\n",
       "</style>\n",
       "<table border=\"1\" class=\"dataframe\">\n",
       "  <thead>\n",
       "    <tr style=\"text-align: right;\">\n",
       "      <th></th>\n",
       "      <th>1</th>\n",
       "      <th>2</th>\n",
       "      <th>3</th>\n",
       "      <th>4</th>\n",
       "      <th>5</th>\n",
       "      <th>accuracy</th>\n",
       "      <th>macro avg</th>\n",
       "      <th>weighted avg</th>\n",
       "    </tr>\n",
       "  </thead>\n",
       "  <tbody>\n",
       "    <tr>\n",
       "      <th>precision</th>\n",
       "      <td>0.855126</td>\n",
       "      <td>0.887558</td>\n",
       "      <td>0.925499</td>\n",
       "      <td>0.886869</td>\n",
       "      <td>0.888649</td>\n",
       "      <td>0.884903</td>\n",
       "      <td>0.888740</td>\n",
       "      <td>0.887928</td>\n",
       "    </tr>\n",
       "    <tr>\n",
       "      <th>recall</th>\n",
       "      <td>0.879233</td>\n",
       "      <td>0.878186</td>\n",
       "      <td>0.932631</td>\n",
       "      <td>0.832575</td>\n",
       "      <td>0.880073</td>\n",
       "      <td>0.884903</td>\n",
       "      <td>0.880540</td>\n",
       "      <td>0.884903</td>\n",
       "    </tr>\n",
       "    <tr>\n",
       "      <th>f1-score</th>\n",
       "      <td>0.864800</td>\n",
       "      <td>0.881296</td>\n",
       "      <td>0.928536</td>\n",
       "      <td>0.850647</td>\n",
       "      <td>0.884033</td>\n",
       "      <td>0.884903</td>\n",
       "      <td>0.881863</td>\n",
       "      <td>0.884321</td>\n",
       "    </tr>\n",
       "    <tr>\n",
       "      <th>support</th>\n",
       "      <td>116.666667</td>\n",
       "      <td>90.000000</td>\n",
       "      <td>98.333333</td>\n",
       "      <td>47.000000</td>\n",
       "      <td>94.000000</td>\n",
       "      <td>0.884903</td>\n",
       "      <td>446.000000</td>\n",
       "      <td>446.000000</td>\n",
       "    </tr>\n",
       "  </tbody>\n",
       "</table>\n",
       "</div>"
      ],
      "text/plain": [
       "                    1          2          3          4          5  accuracy  \\\n",
       "precision    0.855126   0.887558   0.925499   0.886869   0.888649  0.884903   \n",
       "recall       0.879233   0.878186   0.932631   0.832575   0.880073  0.884903   \n",
       "f1-score     0.864800   0.881296   0.928536   0.850647   0.884033  0.884903   \n",
       "support    116.666667  90.000000  98.333333  47.000000  94.000000  0.884903   \n",
       "\n",
       "            macro avg  weighted avg  \n",
       "precision    0.888740      0.887928  \n",
       "recall       0.880540      0.884903  \n",
       "f1-score     0.881863      0.884321  \n",
       "support    446.000000    446.000000  "
      ]
     },
     "metadata": {},
     "output_type": "display_data"
    },
    {
     "name": "stdout",
     "output_type": "stream",
     "text": [
      "\n",
      "Class-wise accuracy for each fold:\n",
      "\n",
      "[0.87068966 0.85416667 0.92631579 0.60416667 0.85714286]\n",
      "[0.83064516 0.94318182 0.94565217 0.94117647 0.92307692]\n",
      "[0.93636364 0.8372093  0.92592593 0.95238095 0.86      ]\n"
     ]
    }
   ],
   "source": [
    "print_string= \"Evaluation report for the FFN with Activation function: {}, Optimizer: {}\"\n",
    "print(print_string.format(\"relu\", 'adam'))\n",
    "\n",
    "model = getModel(activationFunction='relu',opt='adam')\n",
    "scores, histories, cmats, cReports = evaluate_model(X_train, y_train,model)\n",
    "final_report= calculate_avg_report(cReports)   \n",
    "display(final_report)\n",
    "print(\"\\nClass-wise accuracy for each fold:\\n\")\n",
    "for i in range(len(cmats)):\n",
    "    print(cmats[i].diagonal()/cmats[i].sum(axis=1))\n",
    "    \n",
    "activation_opt_list.append(\"relu/Adam\")\n",
    "accuracy_list.append((100*final_report.iloc[0][5]))      \n",
    "    "
   ]
  },
  {
   "cell_type": "code",
   "execution_count": 242,
   "id": "ed0529a0",
   "metadata": {},
   "outputs": [
    {
     "name": "stdout",
     "output_type": "stream",
     "text": [
      "Evaluation report for the FFN with Activation function: relu, Optimizer: SGD\n"
     ]
    },
    {
     "name": "stderr",
     "output_type": "stream",
     "text": [
      "/Users/shashadhar/opt/anaconda3/lib/python3.8/site-packages/sklearn/metrics/_classification.py:1245: UndefinedMetricWarning: Precision and F-score are ill-defined and being set to 0.0 in labels with no predicted samples. Use `zero_division` parameter to control this behavior.\n",
      "  _warn_prf(average, modifier, msg_start, len(result))\n",
      "/Users/shashadhar/opt/anaconda3/lib/python3.8/site-packages/sklearn/metrics/_classification.py:1245: UndefinedMetricWarning: Precision and F-score are ill-defined and being set to 0.0 in labels with no predicted samples. Use `zero_division` parameter to control this behavior.\n",
      "  _warn_prf(average, modifier, msg_start, len(result))\n",
      "/Users/shashadhar/opt/anaconda3/lib/python3.8/site-packages/sklearn/metrics/_classification.py:1245: UndefinedMetricWarning: Precision and F-score are ill-defined and being set to 0.0 in labels with no predicted samples. Use `zero_division` parameter to control this behavior.\n",
      "  _warn_prf(average, modifier, msg_start, len(result))\n"
     ]
    },
    {
     "data": {
      "text/html": [
       "<div>\n",
       "<style scoped>\n",
       "    .dataframe tbody tr th:only-of-type {\n",
       "        vertical-align: middle;\n",
       "    }\n",
       "\n",
       "    .dataframe tbody tr th {\n",
       "        vertical-align: top;\n",
       "    }\n",
       "\n",
       "    .dataframe thead th {\n",
       "        text-align: right;\n",
       "    }\n",
       "</style>\n",
       "<table border=\"1\" class=\"dataframe\">\n",
       "  <thead>\n",
       "    <tr style=\"text-align: right;\">\n",
       "      <th></th>\n",
       "      <th>1</th>\n",
       "      <th>2</th>\n",
       "      <th>3</th>\n",
       "      <th>4</th>\n",
       "      <th>5</th>\n",
       "      <th>accuracy</th>\n",
       "      <th>macro avg</th>\n",
       "      <th>weighted avg</th>\n",
       "    </tr>\n",
       "  </thead>\n",
       "  <tbody>\n",
       "    <tr>\n",
       "      <th>precision</th>\n",
       "      <td>0.551485</td>\n",
       "      <td>0.563095</td>\n",
       "      <td>0.570588</td>\n",
       "      <td>0.333333</td>\n",
       "      <td>0.604403</td>\n",
       "      <td>0.562033</td>\n",
       "      <td>0.524581</td>\n",
       "      <td>0.543098</td>\n",
       "    </tr>\n",
       "    <tr>\n",
       "      <th>recall</th>\n",
       "      <td>0.824308</td>\n",
       "      <td>0.287438</td>\n",
       "      <td>0.829137</td>\n",
       "      <td>0.007937</td>\n",
       "      <td>0.498718</td>\n",
       "      <td>0.562033</td>\n",
       "      <td>0.489508</td>\n",
       "      <td>0.562033</td>\n",
       "    </tr>\n",
       "    <tr>\n",
       "      <th>f1-score</th>\n",
       "      <td>0.654962</td>\n",
       "      <td>0.370182</td>\n",
       "      <td>0.674009</td>\n",
       "      <td>0.015504</td>\n",
       "      <td>0.530895</td>\n",
       "      <td>0.562033</td>\n",
       "      <td>0.449110</td>\n",
       "      <td>0.508181</td>\n",
       "    </tr>\n",
       "    <tr>\n",
       "      <th>support</th>\n",
       "      <td>116.666667</td>\n",
       "      <td>90.000000</td>\n",
       "      <td>98.333333</td>\n",
       "      <td>47.000000</td>\n",
       "      <td>94.000000</td>\n",
       "      <td>0.562033</td>\n",
       "      <td>446.000000</td>\n",
       "      <td>446.000000</td>\n",
       "    </tr>\n",
       "  </tbody>\n",
       "</table>\n",
       "</div>"
      ],
      "text/plain": [
       "                    1          2          3          4          5  accuracy  \\\n",
       "precision    0.551485   0.563095   0.570588   0.333333   0.604403  0.562033   \n",
       "recall       0.824308   0.287438   0.829137   0.007937   0.498718  0.562033   \n",
       "f1-score     0.654962   0.370182   0.674009   0.015504   0.530895  0.562033   \n",
       "support    116.666667  90.000000  98.333333  47.000000  94.000000  0.562033   \n",
       "\n",
       "            macro avg  weighted avg  \n",
       "precision    0.524581      0.543098  \n",
       "recall       0.489508      0.562033  \n",
       "f1-score     0.449110      0.508181  \n",
       "support    446.000000    446.000000  "
      ]
     },
     "metadata": {},
     "output_type": "display_data"
    },
    {
     "name": "stdout",
     "output_type": "stream",
     "text": [
      "\n",
      "Class-wise accuracy for each fold:\n",
      "\n",
      "[0.81896552 0.125      0.69473684 0.         0.23076923]\n",
      "[0.79032258 0.29545455 0.91304348 0.         0.61538462]\n",
      "[0.86363636 0.44186047 0.87962963 0.02380952 0.65      ]\n"
     ]
    }
   ],
   "source": [
    "print_string= \"Evaluation report for the FFN with Activation function: {}, Optimizer: {}\"\n",
    "print(print_string.format(\"relu\", 'SGD'))\n",
    "\n",
    "model = getModel(activationFunction='relu',opt='SGD')\n",
    "scores, histories, cmats, cReports = evaluate_model(X_train, y_train,model)\n",
    "final_report= calculate_avg_report(cReports)   \n",
    "display(final_report)\n",
    "print(\"\\nClass-wise accuracy for each fold:\\n\")\n",
    "for i in range(len(cmats)):\n",
    "    print(cmats[i].diagonal()/cmats[i].sum(axis=1))\n",
    "    \n",
    "activation_opt_list.append(\"relu/SGD\")\n",
    "accuracy_list.append((100*final_report.iloc[0][5]))      "
   ]
  },
  {
   "cell_type": "code",
   "execution_count": 243,
   "id": "758e5d54",
   "metadata": {},
   "outputs": [
    {
     "name": "stdout",
     "output_type": "stream",
     "text": [
      "Evaluation report for the FFN with Activation function: sigmoid, Optimizer: adam\n"
     ]
    },
    {
     "name": "stderr",
     "output_type": "stream",
     "text": [
      "/Users/shashadhar/opt/anaconda3/lib/python3.8/site-packages/sklearn/metrics/_classification.py:1245: UndefinedMetricWarning: Precision and F-score are ill-defined and being set to 0.0 in labels with no predicted samples. Use `zero_division` parameter to control this behavior.\n",
      "  _warn_prf(average, modifier, msg_start, len(result))\n",
      "/Users/shashadhar/opt/anaconda3/lib/python3.8/site-packages/sklearn/metrics/_classification.py:1245: UndefinedMetricWarning: Precision and F-score are ill-defined and being set to 0.0 in labels with no predicted samples. Use `zero_division` parameter to control this behavior.\n",
      "  _warn_prf(average, modifier, msg_start, len(result))\n",
      "/Users/shashadhar/opt/anaconda3/lib/python3.8/site-packages/sklearn/metrics/_classification.py:1245: UndefinedMetricWarning: Precision and F-score are ill-defined and being set to 0.0 in labels with no predicted samples. Use `zero_division` parameter to control this behavior.\n",
      "  _warn_prf(average, modifier, msg_start, len(result))\n"
     ]
    },
    {
     "data": {
      "text/html": [
       "<div>\n",
       "<style scoped>\n",
       "    .dataframe tbody tr th:only-of-type {\n",
       "        vertical-align: middle;\n",
       "    }\n",
       "\n",
       "    .dataframe tbody tr th {\n",
       "        vertical-align: top;\n",
       "    }\n",
       "\n",
       "    .dataframe thead th {\n",
       "        text-align: right;\n",
       "    }\n",
       "</style>\n",
       "<table border=\"1\" class=\"dataframe\">\n",
       "  <thead>\n",
       "    <tr style=\"text-align: right;\">\n",
       "      <th></th>\n",
       "      <th>1</th>\n",
       "      <th>2</th>\n",
       "      <th>3</th>\n",
       "      <th>4</th>\n",
       "      <th>5</th>\n",
       "      <th>accuracy</th>\n",
       "      <th>macro avg</th>\n",
       "      <th>weighted avg</th>\n",
       "    </tr>\n",
       "  </thead>\n",
       "  <tbody>\n",
       "    <tr>\n",
       "      <th>precision</th>\n",
       "      <td>0.588848</td>\n",
       "      <td>0.502243</td>\n",
       "      <td>0.760837</td>\n",
       "      <td>0.666667</td>\n",
       "      <td>0.927262</td>\n",
       "      <td>0.671898</td>\n",
       "      <td>0.689171</td>\n",
       "      <td>0.685986</td>\n",
       "    </tr>\n",
       "    <tr>\n",
       "      <th>recall</th>\n",
       "      <td>0.932533</td>\n",
       "      <td>0.486963</td>\n",
       "      <td>0.929237</td>\n",
       "      <td>0.211485</td>\n",
       "      <td>0.505092</td>\n",
       "      <td>0.671898</td>\n",
       "      <td>0.613062</td>\n",
       "      <td>0.671898</td>\n",
       "    </tr>\n",
       "    <tr>\n",
       "      <th>f1-score</th>\n",
       "      <td>0.704909</td>\n",
       "      <td>0.494444</td>\n",
       "      <td>0.832285</td>\n",
       "      <td>0.273913</td>\n",
       "      <td>0.569031</td>\n",
       "      <td>0.671898</td>\n",
       "      <td>0.574917</td>\n",
       "      <td>0.613123</td>\n",
       "    </tr>\n",
       "    <tr>\n",
       "      <th>support</th>\n",
       "      <td>116.666667</td>\n",
       "      <td>90.000000</td>\n",
       "      <td>98.333333</td>\n",
       "      <td>47.000000</td>\n",
       "      <td>94.000000</td>\n",
       "      <td>0.671898</td>\n",
       "      <td>446.000000</td>\n",
       "      <td>446.000000</td>\n",
       "    </tr>\n",
       "  </tbody>\n",
       "</table>\n",
       "</div>"
      ],
      "text/plain": [
       "                    1          2          3          4          5  accuracy  \\\n",
       "precision    0.588848   0.502243   0.760837   0.666667   0.927262  0.671898   \n",
       "recall       0.932533   0.486963   0.929237   0.211485   0.505092  0.671898   \n",
       "f1-score     0.704909   0.494444   0.832285   0.273913   0.569031  0.671898   \n",
       "support    116.666667  90.000000  98.333333  47.000000  94.000000  0.671898   \n",
       "\n",
       "            macro avg  weighted avg  \n",
       "precision    0.689171      0.685986  \n",
       "recall       0.613062      0.671898  \n",
       "f1-score     0.574917      0.613123  \n",
       "support    446.000000    446.000000  "
      ]
     },
     "metadata": {},
     "output_type": "display_data"
    },
    {
     "name": "stdout",
     "output_type": "stream",
     "text": [
      "\n",
      "Class-wise accuracy for each fold:\n",
      "\n",
      "[0.97413793 0.         0.90526316 0.         0.05494505]\n",
      "[0.88709677 0.68181818 0.95652174 0.03921569 0.67032967]\n",
      "[0.93636364 0.77906977 0.92592593 0.5952381  0.79      ]\n"
     ]
    }
   ],
   "source": [
    "print_string= \"Evaluation report for the FFN with Activation function: {}, Optimizer: {}\"\n",
    "print(print_string.format(\"sigmoid\", 'adam'))\n",
    "\n",
    "model = getModel(activationFunction='sigmoid',opt='adam')\n",
    "scores, histories, cmats, cReports = evaluate_model(X_train, y_train,model)\n",
    "final_report= calculate_avg_report(cReports)   \n",
    "display(final_report)\n",
    "print(\"\\nClass-wise accuracy for each fold:\\n\")\n",
    "for i in range(len(cmats)):\n",
    "    print(cmats[i].diagonal()/cmats[i].sum(axis=1))\n",
    "\n",
    "activation_opt_list.append(\"sigmoid/SGD\")\n",
    "accuracy_list.append((100*final_report.iloc[0][5]))      "
   ]
  },
  {
   "cell_type": "code",
   "execution_count": 244,
   "id": "e4344e43",
   "metadata": {},
   "outputs": [
    {
     "name": "stdout",
     "output_type": "stream",
     "text": [
      "Evaluation report for the FFN with Activation function: relu, Optimizer: Adamax\n"
     ]
    },
    {
     "name": "stderr",
     "output_type": "stream",
     "text": [
      "/Users/shashadhar/opt/anaconda3/lib/python3.8/site-packages/sklearn/metrics/_classification.py:1245: UndefinedMetricWarning: Precision and F-score are ill-defined and being set to 0.0 in labels with no predicted samples. Use `zero_division` parameter to control this behavior.\n",
      "  _warn_prf(average, modifier, msg_start, len(result))\n",
      "/Users/shashadhar/opt/anaconda3/lib/python3.8/site-packages/sklearn/metrics/_classification.py:1245: UndefinedMetricWarning: Precision and F-score are ill-defined and being set to 0.0 in labels with no predicted samples. Use `zero_division` parameter to control this behavior.\n",
      "  _warn_prf(average, modifier, msg_start, len(result))\n",
      "/Users/shashadhar/opt/anaconda3/lib/python3.8/site-packages/sklearn/metrics/_classification.py:1245: UndefinedMetricWarning: Precision and F-score are ill-defined and being set to 0.0 in labels with no predicted samples. Use `zero_division` parameter to control this behavior.\n",
      "  _warn_prf(average, modifier, msg_start, len(result))\n"
     ]
    },
    {
     "data": {
      "text/html": [
       "<div>\n",
       "<style scoped>\n",
       "    .dataframe tbody tr th:only-of-type {\n",
       "        vertical-align: middle;\n",
       "    }\n",
       "\n",
       "    .dataframe tbody tr th {\n",
       "        vertical-align: top;\n",
       "    }\n",
       "\n",
       "    .dataframe thead th {\n",
       "        text-align: right;\n",
       "    }\n",
       "</style>\n",
       "<table border=\"1\" class=\"dataframe\">\n",
       "  <thead>\n",
       "    <tr style=\"text-align: right;\">\n",
       "      <th></th>\n",
       "      <th>1</th>\n",
       "      <th>2</th>\n",
       "      <th>3</th>\n",
       "      <th>4</th>\n",
       "      <th>5</th>\n",
       "      <th>accuracy</th>\n",
       "      <th>macro avg</th>\n",
       "      <th>weighted avg</th>\n",
       "    </tr>\n",
       "  </thead>\n",
       "  <tbody>\n",
       "    <tr>\n",
       "      <th>precision</th>\n",
       "      <td>0.714206</td>\n",
       "      <td>0.737619</td>\n",
       "      <td>0.752200</td>\n",
       "      <td>0.619544</td>\n",
       "      <td>0.796329</td>\n",
       "      <td>0.748132</td>\n",
       "      <td>0.723979</td>\n",
       "      <td>0.735878</td>\n",
       "    </tr>\n",
       "    <tr>\n",
       "      <th>recall</th>\n",
       "      <td>0.860837</td>\n",
       "      <td>0.620170</td>\n",
       "      <td>0.908915</td>\n",
       "      <td>0.360878</td>\n",
       "      <td>0.772161</td>\n",
       "      <td>0.748132</td>\n",
       "      <td>0.704592</td>\n",
       "      <td>0.748132</td>\n",
       "    </tr>\n",
       "    <tr>\n",
       "      <th>f1-score</th>\n",
       "      <td>0.776990</td>\n",
       "      <td>0.664801</td>\n",
       "      <td>0.817855</td>\n",
       "      <td>0.446446</td>\n",
       "      <td>0.783636</td>\n",
       "      <td>0.748132</td>\n",
       "      <td>0.697946</td>\n",
       "      <td>0.728553</td>\n",
       "    </tr>\n",
       "    <tr>\n",
       "      <th>support</th>\n",
       "      <td>116.666667</td>\n",
       "      <td>90.000000</td>\n",
       "      <td>98.333333</td>\n",
       "      <td>47.000000</td>\n",
       "      <td>94.000000</td>\n",
       "      <td>0.748132</td>\n",
       "      <td>446.000000</td>\n",
       "      <td>446.000000</td>\n",
       "    </tr>\n",
       "  </tbody>\n",
       "</table>\n",
       "</div>"
      ],
      "text/plain": [
       "                    1          2          3          4          5  accuracy  \\\n",
       "precision    0.714206   0.737619   0.752200   0.619544   0.796329  0.748132   \n",
       "recall       0.860837   0.620170   0.908915   0.360878   0.772161  0.748132   \n",
       "f1-score     0.776990   0.664801   0.817855   0.446446   0.783636  0.748132   \n",
       "support    116.666667  90.000000  98.333333  47.000000  94.000000  0.748132   \n",
       "\n",
       "            macro avg  weighted avg  \n",
       "precision    0.723979      0.735878  \n",
       "recall       0.704592      0.748132  \n",
       "f1-score     0.697946      0.728553  \n",
       "support    446.000000    446.000000  "
      ]
     },
     "metadata": {},
     "output_type": "display_data"
    },
    {
     "name": "stdout",
     "output_type": "stream",
     "text": [
      "\n",
      "Class-wise accuracy for each fold:\n",
      "\n",
      "[0.84482759 0.35416667 0.87368421 0.         0.68131868]\n",
      "[0.84677419 0.72727273 0.94565217 0.39215686 0.83516484]\n",
      "[0.89090909 0.77906977 0.90740741 0.69047619 0.8       ]\n"
     ]
    }
   ],
   "source": [
    "print_string= \"Evaluation report for the FFN with Activation function: {}, Optimizer: {}\"\n",
    "print(print_string.format(\"relu\", 'Adamax'))\n",
    "\n",
    "model = getModel(activationFunction='relu',opt='Adamax')\n",
    "scores, histories, cmats, cReports = evaluate_model(X_train, y_train,model)\n",
    "final_report= calculate_avg_report(cReports)   \n",
    "display(final_report)\n",
    "print(\"\\nClass-wise accuracy for each fold:\\n\")\n",
    "for i in range(len(cmats)):\n",
    "    print(cmats[i].diagonal()/cmats[i].sum(axis=1))\n",
    "\n",
    "activation_opt_list.append(\"relu/Adamax\")\n",
    "accuracy_list.append((100*final_report.iloc[0][5]))      "
   ]
  },
  {
   "cell_type": "markdown",
   "id": "1262de13",
   "metadata": {},
   "source": [
    "## Graph showing accuracies with various models"
   ]
  },
  {
   "cell_type": "code",
   "execution_count": 245,
   "id": "8578240a",
   "metadata": {},
   "outputs": [
    {
     "data": {
      "image/png": "[encoded data removed]",
      "text/plain": [
       "<Figure size 432x288 with 1 Axes>"
      ]
     },
     "metadata": {
      "needs_background": "light"
     },
     "output_type": "display_data"
    }
   ],
   "source": [
    "import matplotlib.pyplot as plt\n",
    "fig = plt.figure()\n",
    "ax = fig.add_axes([0,0,1,1])\n",
    "students = [23,17,35,29,12]\n",
    "ax.bar(activation_opt_list,accuracy_list,color=['black', 'red', 'green', 'blue', 'cyan'])\n",
    "plt.title(\"Accuracies with model\")\n",
    "plt.xlabel(\"Model with activation function / Optimizer\")\n",
    "plt.ylabel(\"Accuracy\")\n",
    "plt.show()"
   ]
  },
  {
   "cell_type": "code",
   "execution_count": null,
   "id": "5e519e93",
   "metadata": {},
   "outputs": [],
   "source": []
  }
 ],
 "metadata": {
  "kernelspec": {
   "display_name": "Python 3",
   "language": "python",
   "name": "python3"
  },
  "language_info": {
   "codemirror_mode": {
    "name": "ipython",
    "version": 3
   },
   "file_extension": ".py",
   "mimetype": "text/x-python",
   "name": "python",
   "nbconvert_exporter": "python",
   "pygments_lexer": "ipython3",
   "version": "3.8.8"
  }
 },
 "nbformat": 4,
 "nbformat_minor": 5
}
