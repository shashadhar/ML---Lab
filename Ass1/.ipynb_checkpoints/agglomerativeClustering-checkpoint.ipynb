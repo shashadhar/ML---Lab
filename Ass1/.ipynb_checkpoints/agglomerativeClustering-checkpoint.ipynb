{
 "cells": [
  {
   "cell_type": "code",
   "execution_count": 1,
   "id": "9a27034b",
   "metadata": {},
   "outputs": [
    {
     "name": "stdout",
     "output_type": "stream",
     "text": [
      "{0: (247, 194), 1: (205, 177), 2: (917, 908), 3: (177, 174), 4: (219, 217), 5: (909, 908), 6: (933, 929), 7: (202, 177), 8: (243, 174), 9: (222, 216), 10: (244, 222), 11: (210, 184), 12: (592, 591), 13: (938, 917), 14: (695, 675), 15: (862, 842), 16: (223, 182), 17: (787, 754), 18: (199, 195), 19: (242, 193), 20: (842, 826), 21: (873, 862), 22: (183, 182), 23: (602, 546), 24: (845, 839), 25: (833, 813), 26: (921, 903), 27: (248, 206), 28: (851, 836), 29: (567, 540), 30: (830, 826), 31: (206, 201), 32: (220, 216), 33: (238, 201), 34: (188, 170), 35: (201, 187), 36: (859, 822), 37: (820, 813), 38: (455, 427), 39: (239, 210), 40: (540, 532), 41: (231, 193), 42: (768, 735), 43: (157, 156), 44: (585, 584), 45: (850, 831), 46: (237, 227), 47: (334, 310), 48: (232, 188), 49: (241, 175), 50: (427, 399), 51: (583, 574), 52: (246, 195), 53: (930, 929), 54: (521, 428), 55: (813, 754), 56: (447, 436), 57: (611, 510), 58: (245, 240), 59: (159, 130), 60: (46, 27), 61: (130, 26), 62: (560, 559), 63: (557, 524), 64: (317, 312), 65: (328, 322), 66: (236, 197), 67: (234, 203), 68: (563, 544), 69: (48, 17), 70: (123, 71), 71: (898, 893), 72: (710, 705), 73: (707, 674), 74: (198, 176), 75: (595, 583), 76: (927, 892), 77: (136, 127), 78: (76, 28), 79: (128, 125), 80: (995, 958), 81: (854, 846), 82: (564, 457), 83: (838, 825), 84: (78, 44), 85: (591, 544), 86: (312, 302), 87: (524, 421), 88: (162, 155), 89: (533, 510), 90: (831, 821), 91: (584, 534), 92: (179, 177), 93: (197, 172), 94: (828, 821), 95: (683, 679), 96: (94, 75), 97: (623, 566), 98: (133, 111), 99: (868, 835), 100: (543, 522), 101: (748, 599), 102: (970, 960), 103: (908, 907), 104: (297, 289), 105: (659, 521), 106: (520, 434), 107: (824, 813), 108: (913, 909), 109: (944, 752), 110: (991, 970), 111: (605, 521), 112: (698, 676), 113: (580, 439), 114: (326, 309), 115: (652, 557), 116: (146, 130), 117: (769, 590), 118: (856, 827), 119: (939, 933), 120: (156, 44), 121: (603, 443), 122: (694, 675), 123: (894, 893), 124: (544, 519), 125: (428, 415), 126: (984, 957), 127: (240, 168), 128: (786, 757), 129: (651, 611), 130: (41, 40), 131: (1005, 970), 132: (448, 410), 133: (164, 105), 134: (56, 26), 135: (510, 447), 136: (654, 575), 137: (415, 393), 138: (191, 168), 139: (196, 174), 140: (193, 175), 141: (85, 36), 142: (288, 251), 143: (34, 28), 144: (600, 510), 145: (445, 433), 146: (588, 583), 147: (599, 590), 148: (601, 542), 149: (1003, 1001)}\n"
     ]
    }
   ],
   "source": [
    "import numpy as np\n",
    "import pandas as pd\n",
    "from sklearn.metrics.pairwise import euclidean_distances\n",
    "\n",
    "#We can calculate this matrix using 2 for loops, \n",
    "#but this isn't that important to calculate so we directly use this\n",
    "import matplotlib.pyplot as plt\n",
    "\n",
    "\n",
    "\n",
    "# ## Here is the function for Hierarchical clustering\n",
    "\n",
    "# In[4]:\n",
    "\n",
    "def OwnHeirarchical(data, cutoff, linkage):\n",
    "    #This is done using dynamic programming approach\n",
    "    # if 1, it is single linkage else 2 is complete linkage, 3 is average linkage\n",
    "    distance_matrix = euclidean_distances(data, data) #Step 1 - Calculate distance matrix\n",
    "    distance_matrix = np.tril(distance_matrix) #Step 2 - Since matrix is symmetric, we just keep lower triangle matrix\n",
    "    distance_matrix[distance_matrix == 0] = np.inf #Step 3 - Replace 0 by inf, it makes it easy for us to extract minimum using min function\n",
    "    df = pd.DataFrame(data=np.ones(data.shape[0])*np.inf) #Initialized a dataframe which will store which point is in which cluster\n",
    "    if cutoff > distance_matrix.shape[0]: #If user provides impractical cut-off, cluster everthing into one cluster and not listen to user \n",
    "        cutoff = distance_matrix.shape[0]\n",
    "    \n",
    "    if linkage == 1: \n",
    "        \n",
    "        d = {} \n",
    "        #This dictionary keeps record of which data points or cluster are merging, hence can be used to make a dendogram\n",
    "        for i in range(0,cutoff):\n",
    "            ij_min = np.unravel_index(distance_matrix.argmin(), distance_matrix.shape) #from the distance matrix, get the minimum distance\n",
    "            #np.unravel_index gives us the position of minimum distance. e.g. (0,4) is where minimum value is present in matrix.\n",
    "            #This is what we need as in Hierarchical clustering, we merge the two pairs with minimum distance\n",
    "            if i == 0:\n",
    "                df.iloc[ij_min[0]] = 0\n",
    "                df.iloc[ij_min[1]] = 0\n",
    "            else:\n",
    "                try:\n",
    "                    a = int(df.iloc[ij_min[0]])\n",
    "                except:\n",
    "                    df.iloc[ij_min[0]] = i\n",
    "                    a = i\n",
    "                try:\n",
    "                    b = int(df.iloc[ij_min[1]])\n",
    "                except:\n",
    "                    df.iloc[ij_min[1]] = i\n",
    "                    b = i\n",
    "                df[(df[0]==a) | (df[0]==b)] = i\n",
    "            d[i] = ij_min\n",
    "            #The if, else code till here is just filling the dataframe as the two points/clusters combine.\n",
    "            #So, for example if 1 and 2 combines, dataframe will have 1 : 0, 2 : 0. Which means point 1 and 2 both are in same cluster (0th cluster)\n",
    "            for j in range(0, ij_min[0]):\n",
    "                #we want to ignore the diagonal, and diagonal is 0. We replaced 0 by infinte. \n",
    "                #So this if condition will skip diagonals\n",
    "                if np.isfinite(distance_matrix[ij_min[0]][j]) and np.isfinite(distance_matrix[ij_min[1]][j]):\n",
    "                    #after two points/cluster are linked, to calculate new distance we take minimum distance for single linkage\n",
    "                    distance_matrix[ij_min[1]][j] = min(distance_matrix[ij_min[0]][j], distance_matrix[ij_min[1]][j])\n",
    "            # To avoid the combined data points/cluster in further calculations, we make them infinte.\n",
    "            #Our if loop above this, will therefore skip the infinite record entries.\n",
    "            distance_matrix[ij_min[0]] = np.inf\n",
    "        return d, df[0].to_numpy()\n",
    "    \n",
    "    \n",
    "\n",
    "\n",
    "#Test the program\n",
    "\n",
    "dataframe = pd.read_csv(\"BR_mod.csv\")\n",
    "#replace missing values with mean of column\n",
    "dataframe = dataframe.fillna(dataframe.mean())\n",
    "d, target = OwnHeirarchical(dataframe, 150, )\n",
    "print(d)\n",
    "\n",
    "\n"
   ]
  },
  {
   "cell_type": "code",
   "execution_count": null,
   "id": "9a5dcaa8",
   "metadata": {},
   "outputs": [],
   "source": []
  }
 ],
 "metadata": {
  "kernelspec": {
   "display_name": "Python 3",
   "language": "python",
   "name": "python3"
  },
  "language_info": {
   "codemirror_mode": {
    "name": "ipython",
    "version": 3
   },
   "file_extension": ".py",
   "mimetype": "text/x-python",
   "name": "python",
   "nbconvert_exporter": "python",
   "pygments_lexer": "ipython3",
   "version": "3.8.8"
  }
 },
 "nbformat": 4,
 "nbformat_minor": 5
}
