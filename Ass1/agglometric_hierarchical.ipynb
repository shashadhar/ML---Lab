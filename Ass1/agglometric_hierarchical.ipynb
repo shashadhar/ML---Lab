{
 "cells": [
  {
   "cell_type": "code",
   "execution_count": 1,
   "id": "0e32623c",
   "metadata": {},
   "outputs": [],
   "source": [
    "import pandas as pd\n",
    "import numpy as np\n",
    "import matplotlib.pyplot as plt\n",
    "import math\n",
    "import random\n",
    "from scipy.cluster.hierarchy import dendrogram\n",
    "from numba import jit\n",
    "import time\n",
    "import pdb as pdb\n",
    "from sklearn.preprocessing import StandardScaler # Standardization\n",
    "from sklearn.preprocessing import normalize\n",
    "\n",
    "import pandas as pd\n",
    "import numpy as np\n",
    "import matplotlib.pyplot as plt\n",
    "import math\n",
    "import random\n",
    "from scipy.cluster.hierarchy import dendrogram\n",
    "from numba import jit\n",
    "import time\n",
    "import pdb as pdb"
   ]
  },
  {
   "cell_type": "code",
   "execution_count": 2,
   "id": "d8513768",
   "metadata": {},
   "outputs": [],
   "source": [
    "#df = pd.read_csv(\"BR_mod.csv\",names = ['x', 'y'])\n",
    "#df1 = df1.fillna(df1.mean())\n",
    "#df = df1.sample(n=1000).reset_index(drop=True)\n",
    "#df= pd.to_numeric(df,errors='coerce')\n",
    "#df1 = df1.fillna(df1.mean())\n",
    "#df.head()"
   ]
  },
  {
   "cell_type": "code",
   "execution_count": 2,
   "id": "95e857a4",
   "metadata": {},
   "outputs": [
    {
     "name": "stdout",
     "output_type": "stream",
     "text": [
      "Number of Rows    :  1097\n",
      "Number of Columns :  24\n"
     ]
    }
   ],
   "source": [
    "#Loading the data file\n",
    "dataset = pd.read_csv(\"BR_mod.csv\")\n",
    "dataset.head()\n",
    "\n",
    "# computing number of rows\n",
    "rows = len(dataset.axes[0])\n",
    "  \n",
    "# computing number of columns\n",
    "cols = len(dataset.axes[1])\n",
    "print(\"Number of Rows    : \", rows)\n",
    "print(\"Number of Columns : \", cols)\n",
    " \n",
    "\n",
    "#Call fun miss_val_esti_mean() to fill missing values in datasets\n",
    "dataset = dataset.fillna(dataset.mean())\n",
    "\n"
   ]
  },
  {
   "cell_type": "code",
   "execution_count": 3,
   "id": "14955413",
   "metadata": {},
   "outputs": [
    {
     "data": {
      "text/html": [
       "<div>\n",
       "<style scoped>\n",
       "    .dataframe tbody tr th:only-of-type {\n",
       "        vertical-align: middle;\n",
       "    }\n",
       "\n",
       "    .dataframe tbody tr th {\n",
       "        vertical-align: top;\n",
       "    }\n",
       "\n",
       "    .dataframe thead th {\n",
       "        text-align: right;\n",
       "    }\n",
       "</style>\n",
       "<table border=\"1\" class=\"dataframe\">\n",
       "  <thead>\n",
       "    <tr style=\"text-align: right;\">\n",
       "      <th></th>\n",
       "      <th>patient.age_at_initial_pathologic_diagnosis</th>\n",
       "      <th>patient.anatomic_neoplasm_subdivisions.anatomic_neoplasm_subdivision</th>\n",
       "      <th>patient.axillary_lymph_node_stage_method_type</th>\n",
       "      <th>patient.breast_carcinoma_estrogen_receptor_status</th>\n",
       "      <th>patient.breast_carcinoma_progesterone_receptor_status</th>\n",
       "      <th>patient.breast_carcinoma_surgical_procedure_name</th>\n",
       "      <th>patient.gender</th>\n",
       "      <th>patient.histological_type</th>\n",
       "      <th>patient.history_of_neoadjuvant_treatment</th>\n",
       "      <th>patient.initial_pathologic_diagnosis_method</th>\n",
       "      <th>...</th>\n",
       "      <th>patient.number_of_lymphnodes_positive_by_he</th>\n",
       "      <th>patient.other_dx</th>\n",
       "      <th>patient.person_neoplasm_cancer_status</th>\n",
       "      <th>patient.race_list.race</th>\n",
       "      <th>patient.stage_event.pathologic_stage</th>\n",
       "      <th>patient.stage_event.tnm_categories.pathologic_categories.pathologic_m</th>\n",
       "      <th>patient.stage_event.tnm_categories.pathologic_categories.pathologic_n</th>\n",
       "      <th>patient.stage_event.tnm_categories.pathologic_categories.pathologic_t</th>\n",
       "      <th>patient.tissue_prospective_collection_indicator</th>\n",
       "      <th>patient.tissue_source_site</th>\n",
       "    </tr>\n",
       "  </thead>\n",
       "  <tbody>\n",
       "    <tr>\n",
       "      <th>0</th>\n",
       "      <td>-0.034540</td>\n",
       "      <td>-0.113306</td>\n",
       "      <td>7.655247e-02</td>\n",
       "      <td>0.073468</td>\n",
       "      <td>0.095160</td>\n",
       "      <td>-0.052641</td>\n",
       "      <td>0.013856</td>\n",
       "      <td>0.030433</td>\n",
       "      <td>-0.014442</td>\n",
       "      <td>0.000000</td>\n",
       "      <td>...</td>\n",
       "      <td>0.050614</td>\n",
       "      <td>-0.033902</td>\n",
       "      <td>0.427788</td>\n",
       "      <td>0.072254</td>\n",
       "      <td>0.332531</td>\n",
       "      <td>0.295428</td>\n",
       "      <td>0.352729</td>\n",
       "      <td>0.555890</td>\n",
       "      <td>-0.092889</td>\n",
       "      <td>-0.276078</td>\n",
       "    </tr>\n",
       "    <tr>\n",
       "      <th>1</th>\n",
       "      <td>-0.160582</td>\n",
       "      <td>0.366671</td>\n",
       "      <td>1.456377e-01</td>\n",
       "      <td>0.139769</td>\n",
       "      <td>0.181038</td>\n",
       "      <td>-0.345446</td>\n",
       "      <td>0.026361</td>\n",
       "      <td>-0.111769</td>\n",
       "      <td>-0.027475</td>\n",
       "      <td>-0.191534</td>\n",
       "      <td>...</td>\n",
       "      <td>-0.080148</td>\n",
       "      <td>-0.064498</td>\n",
       "      <td>-0.087132</td>\n",
       "      <td>-0.315617</td>\n",
       "      <td>0.031815</td>\n",
       "      <td>-0.112531</td>\n",
       "      <td>0.060347</td>\n",
       "      <td>-0.031521</td>\n",
       "      <td>-0.176717</td>\n",
       "      <td>-0.525226</td>\n",
       "    </tr>\n",
       "    <tr>\n",
       "      <th>2</th>\n",
       "      <td>0.077132</td>\n",
       "      <td>0.039040</td>\n",
       "      <td>-8.300162e-17</td>\n",
       "      <td>0.160641</td>\n",
       "      <td>0.208072</td>\n",
       "      <td>-0.115101</td>\n",
       "      <td>0.030298</td>\n",
       "      <td>-0.128460</td>\n",
       "      <td>-0.031578</td>\n",
       "      <td>-0.220135</td>\n",
       "      <td>...</td>\n",
       "      <td>-0.092116</td>\n",
       "      <td>-0.074129</td>\n",
       "      <td>-0.100143</td>\n",
       "      <td>-0.362747</td>\n",
       "      <td>0.036566</td>\n",
       "      <td>-0.129334</td>\n",
       "      <td>0.069358</td>\n",
       "      <td>-0.036228</td>\n",
       "      <td>-0.203106</td>\n",
       "      <td>-0.603656</td>\n",
       "    </tr>\n",
       "    <tr>\n",
       "      <th>3</th>\n",
       "      <td>-0.077660</td>\n",
       "      <td>0.021511</td>\n",
       "      <td>1.952103e-01</td>\n",
       "      <td>0.088512</td>\n",
       "      <td>0.114646</td>\n",
       "      <td>0.247263</td>\n",
       "      <td>0.016694</td>\n",
       "      <td>-0.070780</td>\n",
       "      <td>-0.017399</td>\n",
       "      <td>-0.121293</td>\n",
       "      <td>...</td>\n",
       "      <td>-0.088000</td>\n",
       "      <td>-0.040845</td>\n",
       "      <td>-0.055178</td>\n",
       "      <td>-0.199871</td>\n",
       "      <td>-0.233503</td>\n",
       "      <td>-0.071262</td>\n",
       "      <td>-0.077807</td>\n",
       "      <td>-0.106171</td>\n",
       "      <td>-0.111910</td>\n",
       "      <td>-0.332610</td>\n",
       "    </tr>\n",
       "    <tr>\n",
       "      <th>4</th>\n",
       "      <td>-0.150186</td>\n",
       "      <td>-0.357186</td>\n",
       "      <td>-3.200657e-01</td>\n",
       "      <td>0.130721</td>\n",
       "      <td>0.169318</td>\n",
       "      <td>-0.093663</td>\n",
       "      <td>0.024655</td>\n",
       "      <td>0.054149</td>\n",
       "      <td>-0.025697</td>\n",
       "      <td>-0.179134</td>\n",
       "      <td>...</td>\n",
       "      <td>0.090058</td>\n",
       "      <td>-0.060322</td>\n",
       "      <td>-0.081491</td>\n",
       "      <td>0.128562</td>\n",
       "      <td>0.217060</td>\n",
       "      <td>-0.105245</td>\n",
       "      <td>0.342024</td>\n",
       "      <td>-0.029480</td>\n",
       "      <td>0.333749</td>\n",
       "      <td>-0.454495</td>\n",
       "    </tr>\n",
       "  </tbody>\n",
       "</table>\n",
       "<p>5 rows × 24 columns</p>\n",
       "</div>"
      ],
      "text/plain": [
       "   patient.age_at_initial_pathologic_diagnosis  \\\n",
       "0                                    -0.034540   \n",
       "1                                    -0.160582   \n",
       "2                                     0.077132   \n",
       "3                                    -0.077660   \n",
       "4                                    -0.150186   \n",
       "\n",
       "   patient.anatomic_neoplasm_subdivisions.anatomic_neoplasm_subdivision  \\\n",
       "0                                          -0.113306                      \n",
       "1                                           0.366671                      \n",
       "2                                           0.039040                      \n",
       "3                                           0.021511                      \n",
       "4                                          -0.357186                      \n",
       "\n",
       "   patient.axillary_lymph_node_stage_method_type  \\\n",
       "0                                   7.655247e-02   \n",
       "1                                   1.456377e-01   \n",
       "2                                  -8.300162e-17   \n",
       "3                                   1.952103e-01   \n",
       "4                                  -3.200657e-01   \n",
       "\n",
       "   patient.breast_carcinoma_estrogen_receptor_status  \\\n",
       "0                                           0.073468   \n",
       "1                                           0.139769   \n",
       "2                                           0.160641   \n",
       "3                                           0.088512   \n",
       "4                                           0.130721   \n",
       "\n",
       "   patient.breast_carcinoma_progesterone_receptor_status  \\\n",
       "0                                           0.095160       \n",
       "1                                           0.181038       \n",
       "2                                           0.208072       \n",
       "3                                           0.114646       \n",
       "4                                           0.169318       \n",
       "\n",
       "   patient.breast_carcinoma_surgical_procedure_name  patient.gender  \\\n",
       "0                                         -0.052641        0.013856   \n",
       "1                                         -0.345446        0.026361   \n",
       "2                                         -0.115101        0.030298   \n",
       "3                                          0.247263        0.016694   \n",
       "4                                         -0.093663        0.024655   \n",
       "\n",
       "   patient.histological_type  patient.history_of_neoadjuvant_treatment  \\\n",
       "0                   0.030433                                 -0.014442   \n",
       "1                  -0.111769                                 -0.027475   \n",
       "2                  -0.128460                                 -0.031578   \n",
       "3                  -0.070780                                 -0.017399   \n",
       "4                   0.054149                                 -0.025697   \n",
       "\n",
       "   patient.initial_pathologic_diagnosis_method  ...  \\\n",
       "0                                     0.000000  ...   \n",
       "1                                    -0.191534  ...   \n",
       "2                                    -0.220135  ...   \n",
       "3                                    -0.121293  ...   \n",
       "4                                    -0.179134  ...   \n",
       "\n",
       "   patient.number_of_lymphnodes_positive_by_he  patient.other_dx  \\\n",
       "0                                     0.050614         -0.033902   \n",
       "1                                    -0.080148         -0.064498   \n",
       "2                                    -0.092116         -0.074129   \n",
       "3                                    -0.088000         -0.040845   \n",
       "4                                     0.090058         -0.060322   \n",
       "\n",
       "   patient.person_neoplasm_cancer_status  patient.race_list.race  \\\n",
       "0                               0.427788                0.072254   \n",
       "1                              -0.087132               -0.315617   \n",
       "2                              -0.100143               -0.362747   \n",
       "3                              -0.055178               -0.199871   \n",
       "4                              -0.081491                0.128562   \n",
       "\n",
       "   patient.stage_event.pathologic_stage  \\\n",
       "0                              0.332531   \n",
       "1                              0.031815   \n",
       "2                              0.036566   \n",
       "3                             -0.233503   \n",
       "4                              0.217060   \n",
       "\n",
       "   patient.stage_event.tnm_categories.pathologic_categories.pathologic_m  \\\n",
       "0                                           0.295428                       \n",
       "1                                          -0.112531                       \n",
       "2                                          -0.129334                       \n",
       "3                                          -0.071262                       \n",
       "4                                          -0.105245                       \n",
       "\n",
       "   patient.stage_event.tnm_categories.pathologic_categories.pathologic_n  \\\n",
       "0                                           0.352729                       \n",
       "1                                           0.060347                       \n",
       "2                                           0.069358                       \n",
       "3                                          -0.077807                       \n",
       "4                                           0.342024                       \n",
       "\n",
       "   patient.stage_event.tnm_categories.pathologic_categories.pathologic_t  \\\n",
       "0                                           0.555890                       \n",
       "1                                          -0.031521                       \n",
       "2                                          -0.036228                       \n",
       "3                                          -0.106171                       \n",
       "4                                          -0.029480                       \n",
       "\n",
       "   patient.tissue_prospective_collection_indicator  patient.tissue_source_site  \n",
       "0                                        -0.092889                   -0.276078  \n",
       "1                                        -0.176717                   -0.525226  \n",
       "2                                        -0.203106                   -0.603656  \n",
       "3                                        -0.111910                   -0.332610  \n",
       "4                                         0.333749                   -0.454495  \n",
       "\n",
       "[5 rows x 24 columns]"
      ]
     },
     "execution_count": 3,
     "metadata": {},
     "output_type": "execute_result"
    }
   ],
   "source": [
    "#Call fun miss_val_esti_mean() to fill missing values in datasets\n",
    "#df = miss_val_esti_mean(df)\n",
    "\n",
    "#standardizing the data\n",
    "from sklearn.preprocessing import StandardScaler\n",
    "scaler = StandardScaler()\n",
    "df_scaled = scaler.fit_transform(dataset)\n",
    "\n",
    "# statistics of scaled data\n",
    "#my_pnda.DataFrame(df_scaled).describe()\n",
    "\n",
    "#Normalizing the datasets\n",
    "udf_scaled = normalize(df_scaled)\n",
    "udf_scaled = pd.DataFrame(udf_scaled, columns=dataset.columns)\n",
    "udf_scaled.head()"
   ]
  },
  {
   "cell_type": "code",
   "execution_count": 4,
   "id": "ab1482b1",
   "metadata": {},
   "outputs": [],
   "source": [
    "\n",
    "df = pd.DataFrame(udf_scaled['patient.stage_event.pathologic_stage'])\n",
    "df['y']= udf_scaled['patient.stage_event.pathologic_stage'].values\n",
    "df = df.rename(columns={'patient.stage_event.pathologic_stage': 'x',})\n",
    "df.head()\n",
    "df=df[:20]\n"
   ]
  },
  {
   "cell_type": "code",
   "execution_count": 5,
   "id": "d34297c6",
   "metadata": {},
   "outputs": [
    {
     "name": "stdout",
     "output_type": "stream",
     "text": [
      "[{1: {'#07E26B'}, 19: {'#07E26B'}}, {0: '#9AFFB2'}, {2: '#A3668D'}, {3: '#BC7620'}, {4: '#0CFD06'}, {5: '#2CDF00'}, {6: '#F9F2CF'}, {7: '#B59897'}, {8: '#3D4090'}, {9: '#CED965'}, {10: '#0F4295'}, {11: '#CB413E'}, {12: '#59A807'}, {13: '#DEDC74'}, {14: '#F88B86'}, {15: '#44F320'}, {16: '#D394E1'}, {17: '#C813BD'}, {18: '#44632A'}]\n",
      "Initial Points Are : \n"
     ]
    },
    {
     "data": {
      "image/png": "[encoded data removed]",
      "text/plain": [
       "<Figure size 432x288 with 1 Axes>"
      ]
     },
     "metadata": {
      "needs_background": "light"
     },
     "output_type": "display_data"
    },
    {
     "data": {
      "image/png": "[encoded data removed]",
      "text/plain": [
       "<Figure size 432x288 with 1 Axes>"
      ]
     },
     "metadata": {
      "needs_background": "light"
     },
     "output_type": "display_data"
    },
    {
     "name": "stdout",
     "output_type": "stream",
     "text": [
      "[{0: '#9AFFB2'}, {3: '#BC7620'}, {4: '#0CFD06'}, {5: '#2CDF00'}, {6: '#F9F2CF'}, {7: '#B59897'}, {8: '#3D4090'}, {9: '#CED965'}, {10: '#0F4295'}, {11: '#CB413E'}, {12: '#59A807'}, {13: '#DEDC74'}, {14: '#F88B86'}, {15: '#44F320'}, {16: '#D394E1'}, {17: '#C813BD'}, {18: '#44632A'}, {2: '#A3668D', 1: '#A3668D', 19: '#A3668D'}]\n"
     ]
    },
    {
     "data": {
      "image/png": "[encoded data removed]",
      "text/plain": [
       "<Figure size 432x288 with 1 Axes>"
      ]
     },
     "metadata": {
      "needs_background": "light"
     },
     "output_type": "display_data"
    },
    {
     "name": "stdout",
     "output_type": "stream",
     "text": [
      "[{0: '#9AFFB2'}, {3: '#BC7620'}, {4: '#0CFD06'}, {5: '#2CDF00'}, {6: '#F9F2CF'}, {7: '#B59897'}, {8: '#3D4090'}, {9: '#CED965'}, {10: '#0F4295'}, {11: '#CB413E'}, {12: '#59A807'}, {13: '#DEDC74'}, {15: '#44F320'}, {16: '#D394E1'}, {17: '#C813BD'}, {18: '#44632A'}, {2: '#A3668D', 1: '#A3668D', 19: '#A3668D', 14: '#A3668D'}]\n"
     ]
    },
    {
     "data": {
      "image/png": "[encoded data removed]",
      "text/plain": [
       "<Figure size 432x288 with 1 Axes>"
      ]
     },
     "metadata": {
      "needs_background": "light"
     },
     "output_type": "display_data"
    },
    {
     "name": "stdout",
     "output_type": "stream",
     "text": [
      "[{0: '#9AFFB2'}, {3: '#BC7620'}, {4: '#0CFD06'}, {5: '#2CDF00'}, {6: '#F9F2CF'}, {7: '#B59897'}, {8: '#3D4090'}, {10: '#0F4295'}, {11: '#CB413E'}, {12: '#59A807'}, {13: '#DEDC74'}, {15: '#44F320'}, {16: '#D394E1'}, {17: '#C813BD'}, {2: '#A3668D', 1: '#A3668D', 19: '#A3668D', 14: '#A3668D'}, {18: '#44632A', 9: '#44632A'}]\n"
     ]
    },
    {
     "data": {
      "image/png": "[encoded data removed]",
      "text/plain": [
       "<Figure size 432x288 with 1 Axes>"
      ]
     },
     "metadata": {
      "needs_background": "light"
     },
     "output_type": "display_data"
    },
    {
     "name": "stdout",
     "output_type": "stream",
     "text": [
      "[{0: '#9AFFB2'}, {3: '#BC7620'}, {4: '#0CFD06'}, {5: '#2CDF00'}, {6: '#F9F2CF'}, {7: '#B59897'}, {8: '#3D4090'}, {10: '#0F4295'}, {11: '#CB413E'}, {13: '#DEDC74'}, {15: '#44F320'}, {16: '#D394E1'}, {17: '#C813BD'}, {18: '#44632A', 9: '#44632A'}, {2: '#A3668D', 1: '#A3668D', 19: '#A3668D', 14: '#A3668D', 12: '#A3668D'}]\n"
     ]
    },
    {
     "data": {
      "image/png": "[encoded data removed]",
      "text/plain": [
       "<Figure size 432x288 with 1 Axes>"
      ]
     },
     "metadata": {
      "needs_background": "light"
     },
     "output_type": "display_data"
    },
    {
     "name": "stdout",
     "output_type": "stream",
     "text": [
      "[{0: '#9AFFB2'}, {3: '#BC7620'}, {5: '#2CDF00'}, {6: '#F9F2CF'}, {7: '#B59897'}, {8: '#3D4090'}, {10: '#0F4295'}, {11: '#CB413E'}, {13: '#DEDC74'}, {16: '#D394E1'}, {17: '#C813BD'}, {18: '#44632A', 9: '#44632A'}, {2: '#A3668D', 1: '#A3668D', 19: '#A3668D', 14: '#A3668D', 12: '#A3668D'}, {15: '#44F320', 4: '#44F320'}]\n"
     ]
    },
    {
     "data": {
      "image/png": "[encoded data removed]",
      "text/plain": [
       "<Figure size 432x288 with 1 Axes>"
      ]
     },
     "metadata": {
      "needs_background": "light"
     },
     "output_type": "display_data"
    },
    {
     "name": "stdout",
     "output_type": "stream",
     "text": [
      "[{0: '#9AFFB2'}, {3: '#BC7620'}, {6: '#F9F2CF'}, {8: '#3D4090'}, {10: '#0F4295'}, {11: '#CB413E'}, {13: '#DEDC74'}, {16: '#D394E1'}, {17: '#C813BD'}, {18: '#44632A', 9: '#44632A'}, {2: '#A3668D', 1: '#A3668D', 19: '#A3668D', 14: '#A3668D', 12: '#A3668D'}, {15: '#44F320', 4: '#44F320'}, {7: '#B59897', 5: '#B59897'}]\n"
     ]
    },
    {
     "data": {
      "image/png": "[encoded data removed]",
      "text/plain": [
       "<Figure size 432x288 with 1 Axes>"
      ]
     },
     "metadata": {
      "needs_background": "light"
     },
     "output_type": "display_data"
    },
    {
     "name": "stdout",
     "output_type": "stream",
     "text": [
      "[{0: '#9AFFB2'}, {3: '#BC7620'}, {6: '#F9F2CF'}, {8: '#3D4090'}, {10: '#0F4295'}, {11: '#CB413E'}, {13: '#DEDC74'}, {17: '#C813BD'}, {18: '#44632A', 9: '#44632A'}, {2: '#A3668D', 1: '#A3668D', 19: '#A3668D', 14: '#A3668D', 12: '#A3668D'}, {15: '#44F320', 4: '#44F320'}, {7: '#B59897', 5: '#B59897', 16: '#B59897'}]\n"
     ]
    },
    {
     "data": {
      "image/png": "[encoded data removed]",
      "text/plain": [
       "<Figure size 432x288 with 1 Axes>"
      ]
     },
     "metadata": {
      "needs_background": "light"
     },
     "output_type": "display_data"
    },
    {
     "name": "stdout",
     "output_type": "stream",
     "text": [
      "[{0: '#9AFFB2'}, {3: '#BC7620'}, {6: '#F9F2CF'}, {8: '#3D4090'}, {10: '#0F4295'}, {11: '#CB413E'}, {13: '#DEDC74'}, {18: '#44632A', 9: '#44632A'}, {2: '#A3668D', 1: '#A3668D', 19: '#A3668D', 14: '#A3668D', 12: '#A3668D'}, {15: '#44F320', 4: '#44F320'}, {7: '#B59897', 5: '#B59897', 16: '#B59897', 17: '#B59897'}]\n"
     ]
    },
    {
     "data": {
      "image/png": "[encoded data removed]",
      "text/plain": [
       "<Figure size 432x288 with 1 Axes>"
      ]
     },
     "metadata": {
      "needs_background": "light"
     },
     "output_type": "display_data"
    },
    {
     "name": "stdout",
     "output_type": "stream",
     "text": [
      "[{0: '#9AFFB2'}, {3: '#BC7620'}, {6: '#F9F2CF'}, {8: '#3D4090'}, {10: '#0F4295'}, {13: '#DEDC74'}, {2: '#A3668D', 1: '#A3668D', 19: '#A3668D', 14: '#A3668D', 12: '#A3668D'}, {15: '#44F320', 4: '#44F320'}, {7: '#B59897', 5: '#B59897', 16: '#B59897', 17: '#B59897'}, {18: '#44632A', 9: '#44632A', 11: '#44632A'}]\n"
     ]
    },
    {
     "data": {
      "image/png": "[encoded data removed]",
      "text/plain": [
       "<Figure size 432x288 with 1 Axes>"
      ]
     },
     "metadata": {
      "needs_background": "light"
     },
     "output_type": "display_data"
    },
    {
     "name": "stdout",
     "output_type": "stream",
     "text": [
      "[{0: '#9AFFB2'}, {3: '#BC7620'}, {6: '#F9F2CF'}, {8: '#3D4090'}, {10: '#0F4295'}, {2: '#A3668D', 1: '#A3668D', 19: '#A3668D', 14: '#A3668D', 12: '#A3668D'}, {15: '#44F320', 4: '#44F320'}, {7: '#B59897', 5: '#B59897', 16: '#B59897', 17: '#B59897'}, {18: '#44632A', 9: '#44632A', 11: '#44632A', 13: '#44632A'}]\n"
     ]
    },
    {
     "data": {
      "image/png": "[encoded data removed]",
      "text/plain": [
       "<Figure size 432x288 with 1 Axes>"
      ]
     },
     "metadata": {
      "needs_background": "light"
     },
     "output_type": "display_data"
    },
    {
     "name": "stdout",
     "output_type": "stream",
     "text": [
      "[{0: '#9AFFB2'}, {3: '#BC7620'}, {6: '#F9F2CF'}, {8: '#3D4090'}, {10: '#0F4295'}, {2: '#A3668D', 1: '#A3668D', 19: '#A3668D', 14: '#A3668D', 12: '#A3668D'}, {15: '#44F320', 4: '#44F320'}, {18: '#44632A', 9: '#44632A', 11: '#44632A', 13: '#44632A', 7: '#44632A', 5: '#44632A', 16: '#44632A', 17: '#44632A'}]\n"
     ]
    },
    {
     "data": {
      "image/png": "[encoded data removed]",
      "text/plain": [
       "<Figure size 432x288 with 1 Axes>"
      ]
     },
     "metadata": {
      "needs_background": "light"
     },
     "output_type": "display_data"
    },
    {
     "name": "stdout",
     "output_type": "stream",
     "text": [
      "[{3: '#BC7620'}, {8: '#3D4090'}, {10: '#0F4295'}, {2: '#A3668D', 1: '#A3668D', 19: '#A3668D', 14: '#A3668D', 12: '#A3668D'}, {15: '#44F320', 4: '#44F320'}, {18: '#44632A', 9: '#44632A', 11: '#44632A', 13: '#44632A', 7: '#44632A', 5: '#44632A', 16: '#44632A', 17: '#44632A'}, {6: '#F9F2CF', 0: '#F9F2CF'}]\n"
     ]
    },
    {
     "data": {
      "image/png": "[encoded data removed]",
      "text/plain": [
       "<Figure size 432x288 with 1 Axes>"
      ]
     },
     "metadata": {
      "needs_background": "light"
     },
     "output_type": "display_data"
    },
    {
     "name": "stdout",
     "output_type": "stream",
     "text": [
      "[{3: '#BC7620'}, {8: '#3D4090'}, {10: '#0F4295'}, {15: '#44F320', 4: '#44F320'}, {6: '#F9F2CF', 0: '#F9F2CF'}, {18: '#44632A', 9: '#44632A', 11: '#44632A', 13: '#44632A', 7: '#44632A', 5: '#44632A', 16: '#44632A', 17: '#44632A', 2: '#44632A', 1: '#44632A', 19: '#44632A', 14: '#44632A', 12: '#44632A'}]\n"
     ]
    },
    {
     "data": {
      "image/png": "[encoded data removed]",
      "text/plain": [
       "<Figure size 432x288 with 1 Axes>"
      ]
     },
     "metadata": {
      "needs_background": "light"
     },
     "output_type": "display_data"
    },
    {
     "name": "stdout",
     "output_type": "stream",
     "text": [
      "[{3: '#BC7620'}, {8: '#3D4090'}, {10: '#0F4295'}, {18: '#44632A', 9: '#44632A', 11: '#44632A', 13: '#44632A', 7: '#44632A', 5: '#44632A', 16: '#44632A', 17: '#44632A', 2: '#44632A', 1: '#44632A', 19: '#44632A', 14: '#44632A', 12: '#44632A'}, {6: '#F9F2CF', 0: '#F9F2CF', 15: '#F9F2CF', 4: '#F9F2CF'}]\n"
     ]
    },
    {
     "data": {
      "image/png": "[encoded data removed]",
      "text/plain": [
       "<Figure size 432x288 with 1 Axes>"
      ]
     },
     "metadata": {
      "needs_background": "light"
     },
     "output_type": "display_data"
    },
    {
     "name": "stdout",
     "output_type": "stream",
     "text": [
      "[{10: '#0F4295'}, {18: '#44632A', 9: '#44632A', 11: '#44632A', 13: '#44632A', 7: '#44632A', 5: '#44632A', 16: '#44632A', 17: '#44632A', 2: '#44632A', 1: '#44632A', 19: '#44632A', 14: '#44632A', 12: '#44632A'}, {6: '#F9F2CF', 0: '#F9F2CF', 15: '#F9F2CF', 4: '#F9F2CF'}, {8: '#3D4090', 3: '#3D4090'}]\n"
     ]
    },
    {
     "data": {
      "image/png": "[encoded data removed]",
      "text/plain": [
       "<Figure size 432x288 with 1 Axes>"
      ]
     },
     "metadata": {
      "needs_background": "light"
     },
     "output_type": "display_data"
    },
    {
     "name": "stdout",
     "output_type": "stream",
     "text": [
      "[{18: '#44632A', 9: '#44632A', 11: '#44632A', 13: '#44632A', 7: '#44632A', 5: '#44632A', 16: '#44632A', 17: '#44632A', 2: '#44632A', 1: '#44632A', 19: '#44632A', 14: '#44632A', 12: '#44632A'}, {6: '#F9F2CF', 0: '#F9F2CF', 15: '#F9F2CF', 4: '#F9F2CF'}, {8: '#3D4090', 3: '#3D4090', 10: '#3D4090'}]\n"
     ]
    },
    {
     "data": {
      "image/png": "[encoded data removed]",
      "text/plain": [
       "<Figure size 432x288 with 1 Axes>"
      ]
     },
     "metadata": {
      "needs_background": "light"
     },
     "output_type": "display_data"
    },
    {
     "name": "stdout",
     "output_type": "stream",
     "text": [
      "[{6: '#F9F2CF', 0: '#F9F2CF', 15: '#F9F2CF', 4: '#F9F2CF'}, {8: '#3D4090', 3: '#3D4090', 10: '#3D4090', 18: '#3D4090', 9: '#3D4090', 11: '#3D4090', 13: '#3D4090', 7: '#3D4090', 5: '#3D4090', 16: '#3D4090', 17: '#3D4090', 2: '#3D4090', 1: '#3D4090', 19: '#3D4090', 14: '#3D4090', 12: '#3D4090'}]\n"
     ]
    },
    {
     "data": {
      "image/png": "[encoded data removed]",
      "text/plain": [
       "<Figure size 432x288 with 1 Axes>"
      ]
     },
     "metadata": {
      "needs_background": "light"
     },
     "output_type": "display_data"
    },
    {
     "name": "stdout",
     "output_type": "stream",
     "text": [
      "[{8: '#3D4090', 3: '#3D4090', 10: '#3D4090', 18: '#3D4090', 9: '#3D4090', 11: '#3D4090', 13: '#3D4090', 7: '#3D4090', 5: '#3D4090', 16: '#3D4090', 17: '#3D4090', 2: '#3D4090', 1: '#3D4090', 19: '#3D4090', 14: '#3D4090', 12: '#3D4090', 6: '#3D4090', 0: '#3D4090', 15: '#3D4090', 4: '#3D4090'}]\n"
     ]
    },
    {
     "data": {
      "image/png": "[encoded data removed]",
      "text/plain": [
       "<Figure size 432x288 with 1 Axes>"
      ]
     },
     "metadata": {
      "needs_background": "light"
     },
     "output_type": "display_data"
    },
    {
     "name": "stdout",
     "output_type": "stream",
     "text": [
      "12.325376987457275\n"
     ]
    },
    {
     "data": {
      "image/png": "[encoded data removed]",
      "text/plain": [
       "<Figure size 720x504 with 1 Axes>"
      ]
     },
     "metadata": {
      "needs_background": "light"
     },
     "output_type": "display_data"
    }
   ],
   "source": [
    "\n",
    "\n",
    "\n",
    "colors = {i :\"#\"+''.join([random.choice('0123456789ABCDEF') for j in range(6)]) for i in range(len(df))}\n",
    "\n",
    "dist = np.reshape(np.zeros((len(df),len(df))), (len(df),len(df)))\n",
    "dist = pd.DataFrame(dist, columns=list(range(len(df))), index=list(range(len(df))))\n",
    "\n",
    "intermediate_arrays = []\n",
    "abc = []\n",
    "added = []\n",
    "done = {}\n",
    "yes = 0\n",
    "Z = []\n",
    "length = len(df)\n",
    "\n",
    "def euclidean(x, y, x1, y1):\n",
    "    return np.round(np.sqrt((x - x1) ** 2 + (y - y1) ** 2), 2)\n",
    "\n",
    "\n",
    "def create_distance_matrix():\n",
    "    for index, x, y in df.itertuples():\n",
    "        for index1, x1, y1 in df.itertuples():\n",
    "            dist[index][index1] = euclidean(x,y,x1,y1)\n",
    "            dist[index1][index] = dist[index][index1]\n",
    "\n",
    "\n",
    "def update_distance_matrix():\n",
    "    global length\n",
    "    global Z\n",
    "    global done\n",
    "    x=1\n",
    "    y=1\n",
    "    no = 0\n",
    "    key = 0\n",
    "    small = max(dist.max())+1\n",
    "    for i in dist.index:\n",
    "        for j in dist.columns:\n",
    "            if i != j:\n",
    "                if dist[i][j] < small:\n",
    "                    small = dist[i][j]\n",
    "                    x = i\n",
    "                    y = j\n",
    "    \n",
    "    #For The Dendrogram-----------------------------------------\n",
    "    b = []\n",
    "    if len(dist) != 2:\n",
    "        for p in done.keys():\n",
    "            if x in done[p] or y in done[p]:\n",
    "                no = 1\n",
    "                key = p\n",
    "                b.append(p)\n",
    "\n",
    "        if no:\n",
    "            done[length] = []\n",
    "            l = y if x in done[key] else x\n",
    "            done[length].append(l)\n",
    "            done[length].extend(done[key][:-1])\n",
    "            count = done[key][-1]['count']+1\n",
    "            \n",
    "            temp = []\n",
    "            a = 0\n",
    "            #print(length)\n",
    "            for p in done.keys():\n",
    "                if l in done[p] and p != key and p != length:\n",
    "                    done[length].extend(done[p][:-1])\n",
    "                    count += done[p][-1].get('count')\n",
    "                    temp.append(p)\n",
    "                    a += 1\n",
    "            count -= a\n",
    "            done[length] = list(np.unique(done[length]))\n",
    "            done[length].append({'count' : count})\n",
    "            \n",
    "            for i in b:\n",
    "                if l in done[i] and i != key:\n",
    "                    l = i\n",
    "            Z.append([key, l, small, done[key][-1]['count']+1])\n",
    "            \n",
    "            \n",
    "            del(done[key])\n",
    "            for i in temp:\n",
    "                del(done[i])\n",
    "            length += 1\n",
    "            \n",
    "            #print(Z)\n",
    "            #print(done)\n",
    "        else:\n",
    "            Z.append([x, y, small, 2])\n",
    "            done[length] = []\n",
    "            done[length].append(x)\n",
    "            done[length].append(y)\n",
    "            done[length].append({'count' : 2})\n",
    "            length += 1\n",
    "            #print(done)\n",
    "    else:\n",
    "        a = []\n",
    "        value = 0\n",
    "        for i in done.keys():\n",
    "            value += done[i][-1]['count']\n",
    "            a.append(i)\n",
    "        if len(a) == 1:\n",
    "            a.append(x if x not in done[length-1] else y)\n",
    "        a.append(small)\n",
    "        a.append(value)\n",
    "        Z.append(a)\n",
    "        #print(done)\n",
    "    #-----------------------------------------------------\n",
    "    return x, y\n",
    "\n",
    "\n",
    "def clustering(x, y):\n",
    "    tmp = x if x < y else y\n",
    "    p = y if x < y else x\n",
    "    \n",
    "    temp = np.reshape(np.zeros((len(dist)-1,len(dist)-1)), (len(dist)-1,len(dist)-1))\n",
    "    temp = pd.DataFrame(dist, columns=list(range(len(dist)-1)), index=list(range(len(dist)-1)))\n",
    "    temp.columns = [l for l in dist.columns if l != p]\n",
    "    temp.index = [l for l in dist.index if l != p]\n",
    "    \n",
    "    for i in temp.index:\n",
    "        for j in temp.columns:\n",
    "            if i == tmp:\n",
    "                temp[i][j] = min(dist[x][j],dist[y][j])\n",
    "                temp[j][i] = temp[i][j]\n",
    "            elif i < tmp:\n",
    "                temp[i][j] = dist[i][j]\n",
    "                temp[j][i] = temp[i][j]\n",
    "            else:\n",
    "                if j == tmp:\n",
    "                    temp[i][j] = min(dist[i][x],dist[i][y])\n",
    "                    temp[j][i] = temp[i][j]\n",
    "                else:\n",
    "                    temp[i][j] = dist[i][j]\n",
    "                    temp[j][i] = temp[i][j]\n",
    "    return temp\n",
    "\n",
    "\n",
    "\n",
    "def intersection(lst1, lst2):\n",
    "    if len([value for value in lst1 if value in lst2]) > 0:\n",
    "        return 1\n",
    "    else:\n",
    "        return 0\n",
    "\n",
    "\n",
    "def update_clusters():\n",
    "    global abc\n",
    "    tempo = {}\n",
    "    g = 0\n",
    "    i = 0\n",
    "    #print(abc)\n",
    "    while(i < len(abc)):\n",
    "        j = i+1\n",
    "        while(j < len(abc)):\n",
    "            if intersection(list(abc[i].keys()), list(abc[j].keys())):\n",
    "                tempo = {**abc[i], **abc[j]}\n",
    "                tempo = dict.fromkeys(tempo, colors[list(tempo.keys())[0]])\n",
    "                abc.append(tempo)\n",
    "                del abc[j]\n",
    "                del abc[i]\n",
    "                g=1\n",
    "            j += 1\n",
    "        if g:\n",
    "            i = 0\n",
    "            g = 0\n",
    "        else:\n",
    "            i += 1\n",
    "            \n",
    "\n",
    "\n",
    "def plot():\n",
    "    plt.figure()\n",
    "    for i in abc:\n",
    "        for j in i.keys():\n",
    "            plt.scatter(df['x'][j], df['y'][j], c=i[j], s=20)\n",
    "    plt.show()\n",
    "\n",
    "\n",
    "def compute_center(lst):\n",
    "    sum = 0\n",
    "    index = 0\n",
    "    small = math.inf\n",
    "    for i in lst:\n",
    "        for j in lst:\n",
    "            sum += euclidean(df['x'][i], df['y'][i], df['x'][j], df['y'][j])\n",
    "        if sum < small:\n",
    "            small = sum\n",
    "            index = i\n",
    "        sum = 0\n",
    "    return index, small\n",
    "\n",
    "\n",
    "def homogeneity():\n",
    "    global abc\n",
    "    homo = 0\n",
    "    for i in range(len(abc)):\n",
    "        index, small = compute_center(list(abc[i].keys()))\n",
    "        for j in list(abc[i].keys()):\n",
    "            homo += euclidean(df['x'][index], df['y'][index], df['x'][j], df['y'][j])\n",
    "        homo /= len(abc[i].keys())\n",
    "        #print(\"Homogeneity Of Cluster %d is %.2f\"%(i,homo))\n",
    "        homo = 0\n",
    "    #return homo\n",
    "\n",
    "\n",
    "def separation():\n",
    "    global abc\n",
    "    sum = 0\n",
    "    N = 1\n",
    "    p = 0\n",
    "    \n",
    "    \n",
    "    for i in range(len(abc)):\n",
    "        for j in range(len(abc)):\n",
    "            if i != j:\n",
    "                sum += len(list(abc[i].keys())) + len(list(abc[j].keys()))\n",
    "    N = sum            \n",
    "    for i in range(len(abc)):\n",
    "        for j in range(len(abc)):\n",
    "            if i != j:\n",
    "                index1, small1 = compute_center(list(abc[i].keys()))\n",
    "                index2, small2 = compute_center(list(abc[j].keys()))\n",
    "                p = len(list(abc[i].keys())) * len(list(abc[j].keys())) * euclidean(df['x'][index1], df['y'][index1], df['x'][index2], df['y'][index2])\n",
    "                #print(\"The Separation Between Cluster %d and %d is %.2f\"%(i, j, p/N))\n",
    "                p = 0\n",
    "    #N = sum\n",
    "    #return p/N\n",
    "\n",
    "\n",
    "def ahc_single():\n",
    "    global dist\n",
    "    global intermediate_arrays\n",
    "    global abc\n",
    "    create_distance_matrix()\n",
    "    round = 1\n",
    "    plt.scatter(df['x'], df['y'], s=20)\n",
    "    while len(dist) != 1:\n",
    "        x, y = update_distance_matrix()\n",
    "        temp = {}\n",
    "        temp[x] = {colors[x if x < y else y]}\n",
    "        temp[y] = {colors[x if x < y else y]}\n",
    "        abc.append(temp)\n",
    "        #print(\"Initial Clusters : \")\n",
    "        #print(abc)\n",
    "        if round == 1:\n",
    "            for j in range(len(df)):\n",
    "                b = {}\n",
    "                for i in abc:\n",
    "                    if j in list(i.keys()):\n",
    "                        global yes\n",
    "                        yes += 1\n",
    "                if yes == 0:\n",
    "                    b = (dict({j: colors[j]}))\n",
    "                    abc.append(b)\n",
    "                else:\n",
    "                    yes = 0\n",
    "        update_clusters()\n",
    "        #print(\"Final Clusters : \")\n",
    "        print(abc)\n",
    "        if round == 1:\n",
    "            print(\"Initial Points Are : \")\n",
    "        plot()\n",
    "        homogeneity()\n",
    "        #print(\"Homogeneity Of Cluster is %.2f\"%(homogeneity()))\n",
    "        if round+1 != len(df):\n",
    "            separation()\n",
    "            #print(\"Separation Of Clusters is %.2f\\n\\n\"%(separation()))\n",
    "        \n",
    "        dist = clustering(x, y)\n",
    "        #print(\"Dist Mat : \")\n",
    "        #print(dist)\n",
    "        intermediate_arrays.append(dist)\n",
    "        round += 1\n",
    "\n",
    "\n",
    "if __name__ == \"__main__\":\n",
    "    start = time.time()\n",
    "    ahc_single()\n",
    "    end = time.time()\n",
    "    print(end-start)\n",
    "    Z = np.asarray(Z)\n",
    "    #print(Z)\n",
    "\n",
    "\n",
    "    labelList = range(0, len(df))\n",
    "\n",
    "    plt.figure(figsize=(10, 7))  \n",
    "    dendrogram(Z,  \n",
    "            orientation='top',\n",
    "            labels=labelList,\n",
    "            distance_sort='descending',\n",
    "            show_leaf_counts=True)\n",
    "    plt.show()  "
   ]
  },
  {
   "cell_type": "code",
   "execution_count": 7,
   "id": "356b72e9",
   "metadata": {},
   "outputs": [
    {
     "name": "stdout",
     "output_type": "stream",
     "text": [
      "    x   y\n",
      "0   0  17\n",
      "1   0  13\n",
      "2   1  19\n",
      "3   0  19\n",
      "4   0  10\n",
      "5   0  12\n",
      "6   0  14\n",
      "7   0   9\n",
      "8   1  16\n",
      "9   1  16\n",
      "10  0   7\n",
      "11  1  16\n",
      "12  1  15\n",
      "13  0   7\n",
      "14  1   5\n",
      "15  0   5\n",
      "16  0  13\n",
      "17  0  14\n",
      "18  0   4\n",
      "19  1  16\n"
     ]
    }
   ],
   "source": [
    "df1 = pd.read_csv(\"BR_mod.csv\",names = ['x', 'y'])\n",
    "df1 = df1.fillna(df1.mean())\n",
    "df = df1.sample(n=20).reset_index(drop=True)\n",
    "print(df)"
   ]
  },
  {
   "cell_type": "code",
   "execution_count": null,
   "id": "a03b52fc",
   "metadata": {},
   "outputs": [],
   "source": []
  }
 ],
 "metadata": {
  "kernelspec": {
   "display_name": "Python 3",
   "language": "python",
   "name": "python3"
  },
  "language_info": {
   "codemirror_mode": {
    "name": "ipython",
    "version": 3
   },
   "file_extension": ".py",
   "mimetype": "text/x-python",
   "name": "python",
   "nbconvert_exporter": "python",
   "pygments_lexer": "ipython3",
   "version": "3.8.8"
  }
 },
 "nbformat": 4,
 "nbformat_minor": 5
}
